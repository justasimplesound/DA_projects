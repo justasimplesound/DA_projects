{
 "cells": [
  {
   "cell_type": "markdown",
   "id": "9a8f3713",
   "metadata": {},
   "source": [
    "### Описание: существует немало приложений, при помощи которых можно узнать общие данные о своих музыкальных вкусах - любимый исполнитель, любимый трек и жанры. Однако на данный момент нет ресурсов, которые бы предоставляли детальный доступ к прослушиваниям треков на Яндекс.Музыке, поэтому я выбрал Spotify, который был доступен до марта 2022, чтобы узнать больше о треках, которые я лайкал с июля 2020."
   ]
  },
  {
   "cell_type": "markdown",
   "id": "b00670ea",
   "metadata": {},
   "source": [
    "Данные о треках были получены при помощи ресурса \"Exportify\" (https://exportify.net/)"
   ]
  },
  {
   "cell_type": "code",
   "execution_count": 782,
   "id": "8248d80e",
   "metadata": {},
   "outputs": [],
   "source": [
    "import pandas as pd\n",
    "import numpy as np\n",
    "\n",
    "import seaborn as sns\n",
    "import matplotlib.pyplot as plt"
   ]
  },
  {
   "cell_type": "code",
   "execution_count": 783,
   "id": "6753e032",
   "metadata": {},
   "outputs": [],
   "source": [
    "sns.set_style('darkgrid')"
   ]
  },
  {
   "cell_type": "markdown",
   "id": "0a412c80",
   "metadata": {},
   "source": [
    "### Изучение данных"
   ]
  },
  {
   "cell_type": "code",
   "execution_count": 784,
   "id": "d14ef80b",
   "metadata": {},
   "outputs": [
    {
     "data": {
      "text/html": [
       "<div>\n",
       "<style scoped>\n",
       "    .dataframe tbody tr th:only-of-type {\n",
       "        vertical-align: middle;\n",
       "    }\n",
       "\n",
       "    .dataframe tbody tr th {\n",
       "        vertical-align: top;\n",
       "    }\n",
       "\n",
       "    .dataframe thead th {\n",
       "        text-align: right;\n",
       "    }\n",
       "</style>\n",
       "<table border=\"1\" class=\"dataframe\">\n",
       "  <thead>\n",
       "    <tr style=\"text-align: right;\">\n",
       "      <th></th>\n",
       "      <th>Track URI</th>\n",
       "      <th>Track Name</th>\n",
       "      <th>Artist URI(s)</th>\n",
       "      <th>Artist Name(s)</th>\n",
       "      <th>Album URI</th>\n",
       "      <th>Album Name</th>\n",
       "      <th>Album Artist URI(s)</th>\n",
       "      <th>Album Artist Name(s)</th>\n",
       "      <th>Album Release Date</th>\n",
       "      <th>Album Image URL</th>\n",
       "      <th>Disc Number</th>\n",
       "      <th>Track Number</th>\n",
       "      <th>Track Duration (ms)</th>\n",
       "      <th>Track Preview URL</th>\n",
       "      <th>Explicit</th>\n",
       "      <th>Popularity</th>\n",
       "      <th>Added By</th>\n",
       "      <th>Added At</th>\n",
       "    </tr>\n",
       "  </thead>\n",
       "  <tbody>\n",
       "    <tr>\n",
       "      <th>0</th>\n",
       "      <td>spotify:track:3VgQTiiOCA1vAajq8XHWdh</td>\n",
       "      <td>Love Me</td>\n",
       "      <td>spotify:artist:0VEzhZrWBCaoufAiZkjX3G</td>\n",
       "      <td>Marbert Rocel</td>\n",
       "      <td>spotify:album:49GVVdEnAKN1flSb0Tu4bE</td>\n",
       "      <td>Catch A Bird</td>\n",
       "      <td>spotify:artist:0VEzhZrWBCaoufAiZkjX3G</td>\n",
       "      <td>Marbert Rocel</td>\n",
       "      <td>2009-10-23</td>\n",
       "      <td>https://i.scdn.co/image/ab67616d0000b2738f9a73...</td>\n",
       "      <td>1</td>\n",
       "      <td>13</td>\n",
       "      <td>326973</td>\n",
       "      <td>https://p.scdn.co/mp3-preview/3431a40ca16b5c04...</td>\n",
       "      <td>False</td>\n",
       "      <td>41</td>\n",
       "      <td>NaN</td>\n",
       "      <td>2022-03-08T15:53:49Z</td>\n",
       "    </tr>\n",
       "    <tr>\n",
       "      <th>1</th>\n",
       "      <td>spotify:track:0ZzdUkZY5QDuH7vze5RkFT</td>\n",
       "      <td>Soul Shadows - Edit</td>\n",
       "      <td>spotify:artist:3Bhgbs9kIwl8SuU0eIqN6b, spotify...</td>\n",
       "      <td>The Crusaders, Bill Withers</td>\n",
       "      <td>spotify:album:49oDv0OMQgI3bZvY5AshBQ</td>\n",
       "      <td>Gold</td>\n",
       "      <td>spotify:artist:3Bhgbs9kIwl8SuU0eIqN6b</td>\n",
       "      <td>The Crusaders</td>\n",
       "      <td>2007</td>\n",
       "      <td>https://i.scdn.co/image/ab67616d0000b273aa9581...</td>\n",
       "      <td>2</td>\n",
       "      <td>11</td>\n",
       "      <td>384346</td>\n",
       "      <td>NaN</td>\n",
       "      <td>False</td>\n",
       "      <td>27</td>\n",
       "      <td>NaN</td>\n",
       "      <td>2022-03-08T13:29:43Z</td>\n",
       "    </tr>\n",
       "    <tr>\n",
       "      <th>2</th>\n",
       "      <td>spotify:track:4t2OeILB07eMGTXSUbMPEu</td>\n",
       "      <td>Oxytocin</td>\n",
       "      <td>spotify:artist:6qqNVTkY8uBg9cP3Jd7DAH</td>\n",
       "      <td>Billie Eilish</td>\n",
       "      <td>spotify:album:0JGOiO34nwfUdDrD612dOp</td>\n",
       "      <td>Happier Than Ever</td>\n",
       "      <td>spotify:artist:6qqNVTkY8uBg9cP3Jd7DAH</td>\n",
       "      <td>Billie Eilish</td>\n",
       "      <td>2021-07-30</td>\n",
       "      <td>https://i.scdn.co/image/ab67616d0000b2732a038d...</td>\n",
       "      <td>1</td>\n",
       "      <td>5</td>\n",
       "      <td>210232</td>\n",
       "      <td>NaN</td>\n",
       "      <td>False</td>\n",
       "      <td>72</td>\n",
       "      <td>NaN</td>\n",
       "      <td>2022-03-07T15:38:05Z</td>\n",
       "    </tr>\n",
       "    <tr>\n",
       "      <th>3</th>\n",
       "      <td>spotify:track:559261quLx4Iuiz1PjmvgY</td>\n",
       "      <td>You Look Certain (I’m Not So Sure)</td>\n",
       "      <td>spotify:artist:3NUtpWpGDoffm3RCGhSHtl, spotify...</td>\n",
       "      <td>Mount Kimbie, Andrea Balency</td>\n",
       "      <td>spotify:album:54FblbvyHNrWeAuEJqnyit</td>\n",
       "      <td>Love What Survives</td>\n",
       "      <td>spotify:artist:3NUtpWpGDoffm3RCGhSHtl</td>\n",
       "      <td>Mount Kimbie</td>\n",
       "      <td>2017-09-08</td>\n",
       "      <td>https://i.scdn.co/image/ab67616d0000b273ef0e29...</td>\n",
       "      <td>1</td>\n",
       "      <td>6</td>\n",
       "      <td>202260</td>\n",
       "      <td>https://p.scdn.co/mp3-preview/eb0fda7df3139d22...</td>\n",
       "      <td>False</td>\n",
       "      <td>38</td>\n",
       "      <td>NaN</td>\n",
       "      <td>2022-03-07T15:17:45Z</td>\n",
       "    </tr>\n",
       "    <tr>\n",
       "      <th>4</th>\n",
       "      <td>spotify:track:1cjwmz8usNrrtkNCbzN2sS</td>\n",
       "      <td>Hello Like Before</td>\n",
       "      <td>spotify:artist:1ThoqLcyIYvZn7iWbj8fsj</td>\n",
       "      <td>Bill Withers</td>\n",
       "      <td>spotify:album:36qxAJDnXvbjD2UVAkawwZ</td>\n",
       "      <td>The Essential Bill Withers</td>\n",
       "      <td>spotify:artist:1ThoqLcyIYvZn7iWbj8fsj</td>\n",
       "      <td>Bill Withers</td>\n",
       "      <td>2013-08-20</td>\n",
       "      <td>https://i.scdn.co/image/ab67616d0000b273351dac...</td>\n",
       "      <td>2</td>\n",
       "      <td>3</td>\n",
       "      <td>329573</td>\n",
       "      <td>https://p.scdn.co/mp3-preview/3c3ed9e4ebf9c412...</td>\n",
       "      <td>False</td>\n",
       "      <td>37</td>\n",
       "      <td>NaN</td>\n",
       "      <td>2022-03-07T11:39:48Z</td>\n",
       "    </tr>\n",
       "  </tbody>\n",
       "</table>\n",
       "</div>"
      ],
      "text/plain": [
       "                              Track URI                          Track Name  \\\n",
       "0  spotify:track:3VgQTiiOCA1vAajq8XHWdh                             Love Me   \n",
       "1  spotify:track:0ZzdUkZY5QDuH7vze5RkFT                 Soul Shadows - Edit   \n",
       "2  spotify:track:4t2OeILB07eMGTXSUbMPEu                            Oxytocin   \n",
       "3  spotify:track:559261quLx4Iuiz1PjmvgY  You Look Certain (I’m Not So Sure)   \n",
       "4  spotify:track:1cjwmz8usNrrtkNCbzN2sS                   Hello Like Before   \n",
       "\n",
       "                                       Artist URI(s)  \\\n",
       "0              spotify:artist:0VEzhZrWBCaoufAiZkjX3G   \n",
       "1  spotify:artist:3Bhgbs9kIwl8SuU0eIqN6b, spotify...   \n",
       "2              spotify:artist:6qqNVTkY8uBg9cP3Jd7DAH   \n",
       "3  spotify:artist:3NUtpWpGDoffm3RCGhSHtl, spotify...   \n",
       "4              spotify:artist:1ThoqLcyIYvZn7iWbj8fsj   \n",
       "\n",
       "                 Artist Name(s)                             Album URI  \\\n",
       "0                 Marbert Rocel  spotify:album:49GVVdEnAKN1flSb0Tu4bE   \n",
       "1   The Crusaders, Bill Withers  spotify:album:49oDv0OMQgI3bZvY5AshBQ   \n",
       "2                 Billie Eilish  spotify:album:0JGOiO34nwfUdDrD612dOp   \n",
       "3  Mount Kimbie, Andrea Balency  spotify:album:54FblbvyHNrWeAuEJqnyit   \n",
       "4                  Bill Withers  spotify:album:36qxAJDnXvbjD2UVAkawwZ   \n",
       "\n",
       "                   Album Name                    Album Artist URI(s)  \\\n",
       "0                Catch A Bird  spotify:artist:0VEzhZrWBCaoufAiZkjX3G   \n",
       "1                        Gold  spotify:artist:3Bhgbs9kIwl8SuU0eIqN6b   \n",
       "2           Happier Than Ever  spotify:artist:6qqNVTkY8uBg9cP3Jd7DAH   \n",
       "3          Love What Survives  spotify:artist:3NUtpWpGDoffm3RCGhSHtl   \n",
       "4  The Essential Bill Withers  spotify:artist:1ThoqLcyIYvZn7iWbj8fsj   \n",
       "\n",
       "  Album Artist Name(s) Album Release Date  \\\n",
       "0        Marbert Rocel         2009-10-23   \n",
       "1        The Crusaders               2007   \n",
       "2        Billie Eilish         2021-07-30   \n",
       "3         Mount Kimbie         2017-09-08   \n",
       "4         Bill Withers         2013-08-20   \n",
       "\n",
       "                                     Album Image URL  Disc Number  \\\n",
       "0  https://i.scdn.co/image/ab67616d0000b2738f9a73...            1   \n",
       "1  https://i.scdn.co/image/ab67616d0000b273aa9581...            2   \n",
       "2  https://i.scdn.co/image/ab67616d0000b2732a038d...            1   \n",
       "3  https://i.scdn.co/image/ab67616d0000b273ef0e29...            1   \n",
       "4  https://i.scdn.co/image/ab67616d0000b273351dac...            2   \n",
       "\n",
       "   Track Number  Track Duration (ms)  \\\n",
       "0            13               326973   \n",
       "1            11               384346   \n",
       "2             5               210232   \n",
       "3             6               202260   \n",
       "4             3               329573   \n",
       "\n",
       "                                   Track Preview URL  Explicit  Popularity  \\\n",
       "0  https://p.scdn.co/mp3-preview/3431a40ca16b5c04...     False          41   \n",
       "1                                                NaN     False          27   \n",
       "2                                                NaN     False          72   \n",
       "3  https://p.scdn.co/mp3-preview/eb0fda7df3139d22...     False          38   \n",
       "4  https://p.scdn.co/mp3-preview/3c3ed9e4ebf9c412...     False          37   \n",
       "\n",
       "   Added By              Added At  \n",
       "0       NaN  2022-03-08T15:53:49Z  \n",
       "1       NaN  2022-03-08T13:29:43Z  \n",
       "2       NaN  2022-03-07T15:38:05Z  \n",
       "3       NaN  2022-03-07T15:17:45Z  \n",
       "4       NaN  2022-03-07T11:39:48Z  "
      ]
     },
     "execution_count": 784,
     "metadata": {},
     "output_type": "execute_result"
    }
   ],
   "source": [
    "df = pd.read_csv('liked.csv')\n",
    "df.head()"
   ]
  },
  {
   "cell_type": "markdown",
   "id": "fe51b2cb",
   "metadata": {},
   "source": [
    "Описание данных:\n",
    "- `Track URI` - уникальный URL трека, при открытии которого мы переходим на конкретный трек в Spotify\n",
    "- `Track Name` - название трека\n",
    "- `Artist URI(s)` - уникальный URL исполнителя\n",
    "- `Artist Name(s)` - имена исполнителя(-ей) трека\n",
    "- `Album Name` - название альбома/EP/сингла\n",
    "- `Album Artist URI(s)` - уникальный URL альбома\n",
    "- `Album Artist Name(s)` - имя исполнителя, выпустившего альбом\n",
    "- `Album Release Date` - дата выхода альбома\n",
    "- `Album Image URL` - URL обложки альбома\n",
    "- `Disc Number` - номер стороны диска \n",
    "- `Track Number` - порядковый номер трека\n",
    "- `Track Duration (ms)` - продолжительность трека в миллисекундах\n",
    "- `Track Preview URL` - краткая версия трека для ознакомительного прослушивания\n",
    "- `Explicit` - присутствие в треке ненормативной лексики (True - да, False - нет)\n",
    "- `Popularity` - популярность трека (0-100)\n",
    "- `Added By` - кем добавлен трек\n",
    "- `Added At` - дата и время добавления "
   ]
  },
  {
   "cell_type": "code",
   "execution_count": 785,
   "id": "3ba27cfe",
   "metadata": {},
   "outputs": [
    {
     "data": {
      "text/plain": [
       "1651"
      ]
     },
     "execution_count": 785,
     "metadata": {},
     "output_type": "execute_result"
    }
   ],
   "source": [
    "df.shape[0] # Всего 1651 лайкнутый трек"
   ]
  },
  {
   "cell_type": "code",
   "execution_count": 786,
   "id": "fae32cb7",
   "metadata": {},
   "outputs": [
    {
     "data": {
      "text/plain": [
       "Track URI                  0\n",
       "Track Name                 0\n",
       "Artist URI(s)              0\n",
       "Artist Name(s)             0\n",
       "Album URI                  0\n",
       "Album Name                 0\n",
       "Album Artist URI(s)        0\n",
       "Album Artist Name(s)       0\n",
       "Album Release Date         0\n",
       "Album Image URL            0\n",
       "Disc Number                0\n",
       "Track Number               0\n",
       "Track Duration (ms)        0\n",
       "Track Preview URL        520\n",
       "Explicit                   0\n",
       "Popularity                 0\n",
       "Added By                1651\n",
       "Added At                   0\n",
       "dtype: int64"
      ]
     },
     "execution_count": 786,
     "metadata": {},
     "output_type": "execute_result"
    }
   ],
   "source": [
    "df.isna().sum() # Нет превью треков и кто добавил - позже оставим только необходимые колонки "
   ]
  },
  {
   "cell_type": "code",
   "execution_count": 787,
   "id": "56e6722c",
   "metadata": {},
   "outputs": [
    {
     "data": {
      "text/plain": [
       "0"
      ]
     },
     "execution_count": 787,
     "metadata": {},
     "output_type": "execute_result"
    }
   ],
   "source": [
    "df.duplicated().sum() # Полных дубликатов нет "
   ]
  },
  {
   "cell_type": "code",
   "execution_count": 788,
   "id": "1de6ef28",
   "metadata": {},
   "outputs": [
    {
     "name": "stdout",
     "output_type": "stream",
     "text": [
      "<class 'pandas.core.frame.DataFrame'>\n",
      "RangeIndex: 1651 entries, 0 to 1650\n",
      "Data columns (total 18 columns):\n",
      " #   Column                Non-Null Count  Dtype  \n",
      "---  ------                --------------  -----  \n",
      " 0   Track URI             1651 non-null   object \n",
      " 1   Track Name            1651 non-null   object \n",
      " 2   Artist URI(s)         1651 non-null   object \n",
      " 3   Artist Name(s)        1651 non-null   object \n",
      " 4   Album URI             1651 non-null   object \n",
      " 5   Album Name            1651 non-null   object \n",
      " 6   Album Artist URI(s)   1651 non-null   object \n",
      " 7   Album Artist Name(s)  1651 non-null   object \n",
      " 8   Album Release Date    1651 non-null   object \n",
      " 9   Album Image URL       1651 non-null   object \n",
      " 10  Disc Number           1651 non-null   int64  \n",
      " 11  Track Number          1651 non-null   int64  \n",
      " 12  Track Duration (ms)   1651 non-null   int64  \n",
      " 13  Track Preview URL     1131 non-null   object \n",
      " 14  Explicit              1651 non-null   bool   \n",
      " 15  Popularity            1651 non-null   int64  \n",
      " 16  Added By              0 non-null      float64\n",
      " 17  Added At              1651 non-null   object \n",
      "dtypes: bool(1), float64(1), int64(4), object(12)\n",
      "memory usage: 221.0+ KB\n"
     ]
    }
   ],
   "source": [
    "df.info() # Нужно преобразовать даты и продолжительность трека в нужный формат"
   ]
  },
  {
   "cell_type": "code",
   "execution_count": 789,
   "id": "255a6dac",
   "metadata": {},
   "outputs": [
    {
     "name": "stderr",
     "output_type": "stream",
     "text": [
      "C:\\Users\\-002D~1\\AppData\\Local\\Temp/ipykernel_10576/3770452706.py:1: FutureWarning: The default value of regex will change from True to False in a future version.\n",
      "  df['Added At'] =  df['Added At'].str.replace(\"[TZ]\", \" \")\n"
     ]
    }
   ],
   "source": [
    "df['Added At'] =  df['Added At'].str.replace(\"[TZ]\", \" \")\n",
    "df['Added At'] = pd.to_datetime(df['Added At'])\n",
    "df['Added At'] = df['Added At'] + pd.Timedelta(hours=5) # так как время в UTC, то добавляем 5 часов (пермское время)\n",
    "\n",
    "df['Album Release Date'] = pd.to_datetime(df['Album Release Date'])\n",
    "\n",
    "df['Track Duration (ms)'] = pd.to_datetime(df['Track Duration (ms)'], unit='ms').dt.strftime('%M:%S')\n",
    "df['Track Duration (ms)']  = pd.to_timedelta('00:' + df['Track Duration (ms)'].replace('',np.NaN))"
   ]
  },
  {
   "cell_type": "code",
   "execution_count": 790,
   "id": "15464aad",
   "metadata": {},
   "outputs": [],
   "source": [
    "df = df.rename(columns={'Track Duration (ms)': 'Track Duration'})"
   ]
  },
  {
   "cell_type": "code",
   "execution_count": 791,
   "id": "9b848587",
   "metadata": {},
   "outputs": [],
   "source": [
    "df = df[['Track Name', 'Artist Name(s)', 'Album Name', \\\n",
    "         'Album Artist Name(s)', 'Album Release Date', 'Track Duration', \\\n",
    "         'Explicit', 'Popularity', 'Added At']] \n",
    "\n",
    "# Оставим только те колонки, которые могут нам понадобиться"
   ]
  },
  {
   "cell_type": "code",
   "execution_count": 792,
   "id": "287a102a",
   "metadata": {},
   "outputs": [
    {
     "data": {
      "text/plain": [
       "Timedelta('599 days 20:47:15')"
      ]
     },
     "execution_count": 792,
     "metadata": {},
     "output_type": "execute_result"
    }
   ],
   "source": [
    "df['Added At'].max() - df['Added At'].min() # Данные за полтора года"
   ]
  },
  {
   "cell_type": "code",
   "execution_count": 793,
   "id": "8eecf03a",
   "metadata": {},
   "outputs": [
    {
     "data": {
      "text/plain": [
       "272"
      ]
     },
     "execution_count": 793,
     "metadata": {},
     "output_type": "execute_result"
    }
   ],
   "source": [
    "df.query('Popularity == 0').shape[0] # Почему-то у некоторых треков популярность = 0..."
   ]
  },
  {
   "cell_type": "markdown",
   "id": "5895e2d7",
   "metadata": {},
   "source": [
    "Что такое популярность трека?\n",
    "\n",
    "<u>Такой ответ дают в API документации Spotify</u>:\n",
    "\n",
    "*The popularity is calculated by algorithm and is based, in the most part, on the total number of plays the track has had and how recent those plays are.\n",
    "Generally speaking, songs that are being played a lot now will have a higher popularity than songs that were played a lot in the past.*\n",
    "<br></br>\n",
    "\n",
    "<u>Также нашёл следующее</u>:\n",
    "\n",
    "*Evidence seems to indicate that the Spotify Popularity score is a kind of aggregate metric. Most likely all of the following (in no particular order), and probably others.*\n",
    "\n",
    "- TOTAL STREAMS\n",
    "- AGE OF SONG\n",
    "- LISTENER/SAVE RATIO\n",
    "- STREAMS/LISTENER RATIO\n",
    "\n",
    "### То есть, популярность высчитывается не только от кол-ва воспроизведений, но и от того, как давно этот трек проигрывался другими пользователями, годом выпуска и количеством сохранений."
   ]
  },
  {
   "cell_type": "code",
   "execution_count": 794,
   "id": "d7592a3c",
   "metadata": {},
   "outputs": [
    {
     "data": {
      "text/html": [
       "<div>\n",
       "<style scoped>\n",
       "    .dataframe tbody tr th:only-of-type {\n",
       "        vertical-align: middle;\n",
       "    }\n",
       "\n",
       "    .dataframe tbody tr th {\n",
       "        vertical-align: top;\n",
       "    }\n",
       "\n",
       "    .dataframe thead th {\n",
       "        text-align: right;\n",
       "    }\n",
       "</style>\n",
       "<table border=\"1\" class=\"dataframe\">\n",
       "  <thead>\n",
       "    <tr style=\"text-align: right;\">\n",
       "      <th></th>\n",
       "      <th>Track Name</th>\n",
       "      <th>Artist Name(s)</th>\n",
       "      <th>Album Name</th>\n",
       "      <th>Album Artist Name(s)</th>\n",
       "      <th>Album Release Date</th>\n",
       "      <th>Track Duration</th>\n",
       "      <th>Explicit</th>\n",
       "      <th>Popularity</th>\n",
       "      <th>Added At</th>\n",
       "    </tr>\n",
       "  </thead>\n",
       "  <tbody>\n",
       "    <tr>\n",
       "      <th>6</th>\n",
       "      <td>Mother Culture</td>\n",
       "      <td>Avast</td>\n",
       "      <td>Mother Culture</td>\n",
       "      <td>Avast</td>\n",
       "      <td>2018-10-26</td>\n",
       "      <td>0 days 00:08:57</td>\n",
       "      <td>False</td>\n",
       "      <td>0</td>\n",
       "      <td>2022-03-07 12:15:31</td>\n",
       "    </tr>\n",
       "    <tr>\n",
       "      <th>15</th>\n",
       "      <td>Cross The Tracks (We Better Go Back)</td>\n",
       "      <td>Maceo And The Macks</td>\n",
       "      <td>Funky Good Time: The Anthology</td>\n",
       "      <td>The J.B.'s</td>\n",
       "      <td>1995-01-01</td>\n",
       "      <td>0 days 00:03:19</td>\n",
       "      <td>False</td>\n",
       "      <td>0</td>\n",
       "      <td>2022-03-03 18:05:07</td>\n",
       "    </tr>\n",
       "    <tr>\n",
       "      <th>17</th>\n",
       "      <td>The Revolution Will Not Be Televised</td>\n",
       "      <td>Gil Scott-Heron</td>\n",
       "      <td>Pieces Of A Man</td>\n",
       "      <td>Gil Scott-Heron</td>\n",
       "      <td>1971-01-01</td>\n",
       "      <td>0 days 00:03:07</td>\n",
       "      <td>False</td>\n",
       "      <td>0</td>\n",
       "      <td>2022-03-03 16:32:06</td>\n",
       "    </tr>\n",
       "    <tr>\n",
       "      <th>48</th>\n",
       "      <td>My Rose by the Sea (Satyr Boy)</td>\n",
       "      <td>King Dude</td>\n",
       "      <td>Full Virgo Moon</td>\n",
       "      <td>King Dude</td>\n",
       "      <td>2020-03-13</td>\n",
       "      <td>0 days 00:03:59</td>\n",
       "      <td>False</td>\n",
       "      <td>0</td>\n",
       "      <td>2022-02-22 21:15:51</td>\n",
       "    </tr>\n",
       "    <tr>\n",
       "      <th>89</th>\n",
       "      <td>White Room</td>\n",
       "      <td>Cream</td>\n",
       "      <td>Wheels Of Fire (Remastered)</td>\n",
       "      <td>Cream</td>\n",
       "      <td>1968-07-01</td>\n",
       "      <td>0 days 00:05:03</td>\n",
       "      <td>False</td>\n",
       "      <td>0</td>\n",
       "      <td>2022-02-16 16:36:35</td>\n",
       "    </tr>\n",
       "  </tbody>\n",
       "</table>\n",
       "</div>"
      ],
      "text/plain": [
       "                              Track Name       Artist Name(s)  \\\n",
       "6                         Mother Culture                Avast   \n",
       "15  Cross The Tracks (We Better Go Back)  Maceo And The Macks   \n",
       "17  The Revolution Will Not Be Televised      Gil Scott-Heron   \n",
       "48        My Rose by the Sea (Satyr Boy)            King Dude   \n",
       "89                            White Room                Cream   \n",
       "\n",
       "                        Album Name Album Artist Name(s) Album Release Date  \\\n",
       "6                   Mother Culture                Avast         2018-10-26   \n",
       "15  Funky Good Time: The Anthology           The J.B.'s         1995-01-01   \n",
       "17                 Pieces Of A Man      Gil Scott-Heron         1971-01-01   \n",
       "48                 Full Virgo Moon            King Dude         2020-03-13   \n",
       "89     Wheels Of Fire (Remastered)                Cream         1968-07-01   \n",
       "\n",
       "    Track Duration  Explicit  Popularity            Added At  \n",
       "6  0 days 00:08:57     False           0 2022-03-07 12:15:31  \n",
       "15 0 days 00:03:19     False           0 2022-03-03 18:05:07  \n",
       "17 0 days 00:03:07     False           0 2022-03-03 16:32:06  \n",
       "48 0 days 00:03:59     False           0 2022-02-22 21:15:51  \n",
       "89 0 days 00:05:03     False           0 2022-02-16 16:36:35  "
      ]
     },
     "execution_count": 794,
     "metadata": {},
     "output_type": "execute_result"
    }
   ],
   "source": [
    "df.query('Popularity == 0').head() \n",
    "\n",
    "# Есть треки как выпущенные как более 50 лет назад, так и в этом десятилетии."
   ]
  },
  {
   "cell_type": "markdown",
   "id": "f8210188",
   "metadata": {},
   "source": [
    "Эти треки должны быть также учтены при подсчёте средней популярности."
   ]
  },
  {
   "cell_type": "markdown",
   "id": "3453a605",
   "metadata": {},
   "source": [
    "---\n",
    "<font size=\"5\">Мы ставим перед собой следующие задачи:\n",
    "\n",
    "- определить самых популярных исполнителей\n",
    "- составить распределение треков по годам\n",
    "- найти среднюю продолжительность треков (+ min/max) и среднюю популярность треков плейлиста\n",
    "- понять, в какой час и какой день недели я чаще всего добавлял треки</font>\n",
    "---"
   ]
  },
  {
   "cell_type": "markdown",
   "id": "80996a50",
   "metadata": {},
   "source": [
    "### Самые популярные исполнители и альбомы"
   ]
  },
  {
   "cell_type": "code",
   "execution_count": 795,
   "id": "d41d20dd",
   "metadata": {},
   "outputs": [
    {
     "data": {
      "text/plain": [
       "Разные исполнители     39\n",
       "Гражданская Оборона    24\n",
       "Khruangbin             14\n",
       "Four Tet               14\n",
       "Röyksopp               12\n",
       "Tortoise               11\n",
       "Антоха МС              10\n",
       "Noize MC                9\n",
       "Kraftwerk               8\n",
       "Sigur Rós               8\n",
       "Name: Album Artist Name(s), dtype: int64"
      ]
     },
     "execution_count": 795,
     "metadata": {},
     "output_type": "execute_result"
    }
   ],
   "source": [
    "df['Album Artist Name(s)'].value_counts().head(10) # Что за \"Разные исполнители\"?"
   ]
  },
  {
   "cell_type": "code",
   "execution_count": 796,
   "id": "73463e0c",
   "metadata": {},
   "outputs": [
    {
     "data": {
      "text/html": [
       "<div>\n",
       "<style scoped>\n",
       "    .dataframe tbody tr th:only-of-type {\n",
       "        vertical-align: middle;\n",
       "    }\n",
       "\n",
       "    .dataframe tbody tr th {\n",
       "        vertical-align: top;\n",
       "    }\n",
       "\n",
       "    .dataframe thead th {\n",
       "        text-align: right;\n",
       "    }\n",
       "</style>\n",
       "<table border=\"1\" class=\"dataframe\">\n",
       "  <thead>\n",
       "    <tr style=\"text-align: right;\">\n",
       "      <th></th>\n",
       "      <th>Track Name</th>\n",
       "      <th>Artist Name(s)</th>\n",
       "      <th>Album Name</th>\n",
       "      <th>Album Artist Name(s)</th>\n",
       "      <th>Album Release Date</th>\n",
       "      <th>Track Duration</th>\n",
       "      <th>Explicit</th>\n",
       "      <th>Popularity</th>\n",
       "      <th>Added At</th>\n",
       "    </tr>\n",
       "  </thead>\n",
       "  <tbody>\n",
       "    <tr>\n",
       "      <th>177</th>\n",
       "      <td>I Luv U</td>\n",
       "      <td>Dizzee Rascal</td>\n",
       "      <td>Pay Close Attention : XL Recordings</td>\n",
       "      <td>Разные исполнители</td>\n",
       "      <td>2014-08-25</td>\n",
       "      <td>0 days 00:04:04</td>\n",
       "      <td>True</td>\n",
       "      <td>0</td>\n",
       "      <td>2022-02-03 20:58:12</td>\n",
       "    </tr>\n",
       "    <tr>\n",
       "      <th>188</th>\n",
       "      <td>Теплопередача</td>\n",
       "      <td>MNRGORODCKIY</td>\n",
       "      <td>Сырой Сборник. Цвет Суеты</td>\n",
       "      <td>Разные исполнители</td>\n",
       "      <td>2021-11-26</td>\n",
       "      <td>0 days 00:03:04</td>\n",
       "      <td>False</td>\n",
       "      <td>0</td>\n",
       "      <td>2022-02-01 19:46:54</td>\n",
       "    </tr>\n",
       "    <tr>\n",
       "      <th>247</th>\n",
       "      <td>Limerence</td>\n",
       "      <td>Yves Tumor</td>\n",
       "      <td>Mono No Aware</td>\n",
       "      <td>Разные исполнители</td>\n",
       "      <td>2017-03-17</td>\n",
       "      <td>0 days 00:05:29</td>\n",
       "      <td>True</td>\n",
       "      <td>58</td>\n",
       "      <td>2022-01-23 17:48:27</td>\n",
       "    </tr>\n",
       "    <tr>\n",
       "      <th>346</th>\n",
       "      <td>Gotham Love</td>\n",
       "      <td>BAKGROUND</td>\n",
       "      <td>LT-GLOBE-XXX</td>\n",
       "      <td>Разные исполнители</td>\n",
       "      <td>2019-10-25</td>\n",
       "      <td>0 days 00:04:33</td>\n",
       "      <td>False</td>\n",
       "      <td>47</td>\n",
       "      <td>2022-01-03 21:32:54</td>\n",
       "    </tr>\n",
       "    <tr>\n",
       "      <th>357</th>\n",
       "      <td>Somnium</td>\n",
       "      <td>Robert Rich</td>\n",
       "      <td>Fahrenheit Project Part Two</td>\n",
       "      <td>Разные исполнители</td>\n",
       "      <td>2001-12-01</td>\n",
       "      <td>0 days 00:08:31</td>\n",
       "      <td>False</td>\n",
       "      <td>16</td>\n",
       "      <td>2022-01-01 14:31:49</td>\n",
       "    </tr>\n",
       "  </tbody>\n",
       "</table>\n",
       "</div>"
      ],
      "text/plain": [
       "        Track Name Artist Name(s)                           Album Name  \\\n",
       "177        I Luv U  Dizzee Rascal  Pay Close Attention : XL Recordings   \n",
       "188  Теплопередача   MNRGORODCKIY            Сырой Сборник. Цвет Суеты   \n",
       "247      Limerence     Yves Tumor                        Mono No Aware   \n",
       "346    Gotham Love      BAKGROUND                         LT-GLOBE-XXX   \n",
       "357        Somnium    Robert Rich          Fahrenheit Project Part Two   \n",
       "\n",
       "    Album Artist Name(s) Album Release Date  Track Duration  Explicit  \\\n",
       "177   Разные исполнители         2014-08-25 0 days 00:04:04      True   \n",
       "188   Разные исполнители         2021-11-26 0 days 00:03:04     False   \n",
       "247   Разные исполнители         2017-03-17 0 days 00:05:29      True   \n",
       "346   Разные исполнители         2019-10-25 0 days 00:04:33     False   \n",
       "357   Разные исполнители         2001-12-01 0 days 00:08:31     False   \n",
       "\n",
       "     Popularity            Added At  \n",
       "177           0 2022-02-03 20:58:12  \n",
       "188           0 2022-02-01 19:46:54  \n",
       "247          58 2022-01-23 17:48:27  \n",
       "346          47 2022-01-03 21:32:54  \n",
       "357          16 2022-01-01 14:31:49  "
      ]
     },
     "execution_count": 796,
     "metadata": {},
     "output_type": "execute_result"
    }
   ],
   "source": [
    "df[df['Album Artist Name(s)'] == 'Разные исполнители'].head() # Лучше брать имя исполнителя трека, а не альбома"
   ]
  },
  {
   "cell_type": "code",
   "execution_count": 797,
   "id": "9a2a1321",
   "metadata": {},
   "outputs": [
    {
     "data": {
      "text/plain": [
       "Гражданская Оборона    24\n",
       "Four Tet               12\n",
       "Tortoise               11\n",
       "Антоха МС               9\n",
       "Noize MC                8\n",
       "Nirvana                 8\n",
       "Röyksopp                8\n",
       "Khruangbin              8\n",
       "Bon Iver                8\n",
       "Kraftwerk               8\n",
       "Name: Artist Name(s), dtype: int64"
      ]
     },
     "execution_count": 797,
     "metadata": {},
     "output_type": "execute_result"
    }
   ],
   "source": [
    "df['Artist Name(s)'].value_counts().head(10) \n",
    "\n",
    "# Топ-5 тот же самый, но ниже появились Nirvana, Röyksopp, Bon Iver. "
   ]
  },
  {
   "cell_type": "markdown",
   "id": "0d2e65a3",
   "metadata": {},
   "source": [
    "Но здесь надо учитывать, что если в треке несколько исполнителей, то они засчитываются отдельно.\n",
    "Уберём колонку `Artist Name(s)`, чтобы работать непосредственно с исполнителями, от имени которых выходили альбомы/синглы и т.д."
   ]
  },
  {
   "cell_type": "code",
   "execution_count": 798,
   "id": "c0980f5b",
   "metadata": {},
   "outputs": [],
   "source": [
    "df = df[['Track Name', 'Album Name', \\\n",
    "         'Artist Name(s)', 'Album Release Date', 'Track Duration', \\\n",
    "         'Explicit', 'Popularity', 'Added At']]"
   ]
  },
  {
   "cell_type": "markdown",
   "id": "51ac5dd3",
   "metadata": {},
   "source": [
    "### Средняя популярность, средняя / максимальная / минимальная продолжительность."
   ]
  },
  {
   "cell_type": "code",
   "execution_count": 799,
   "id": "27827302",
   "metadata": {},
   "outputs": [
    {
     "data": {
      "text/plain": [
       "30.439733494851605"
      ]
     },
     "execution_count": 799,
     "metadata": {},
     "output_type": "execute_result"
    }
   ],
   "source": [
    "df.Popularity.mean()"
   ]
  },
  {
   "cell_type": "code",
   "execution_count": 800,
   "id": "880faf45",
   "metadata": {},
   "outputs": [
    {
     "data": {
      "text/plain": [
       "Timedelta('0 days 00:00:35')"
      ]
     },
     "execution_count": 800,
     "metadata": {},
     "output_type": "execute_result"
    }
   ],
   "source": [
    "df['Track Duration'].min()"
   ]
  },
  {
   "cell_type": "code",
   "execution_count": 801,
   "id": "0b2f0798",
   "metadata": {},
   "outputs": [
    {
     "data": {
      "text/plain": [
       "Timedelta('0 days 00:28:33')"
      ]
     },
     "execution_count": 801,
     "metadata": {},
     "output_type": "execute_result"
    }
   ],
   "source": [
    "df['Track Duration'].max() "
   ]
  },
  {
   "cell_type": "markdown",
   "id": "f170a64a",
   "metadata": {},
   "source": [
    "Раз у нас такой есть такой длинный трек, то заодно посчитаем и медиану, чтобы результат был выше к действительному."
   ]
  },
  {
   "cell_type": "code",
   "execution_count": 802,
   "id": "70fda860",
   "metadata": {},
   "outputs": [
    {
     "data": {
      "text/plain": [
       "Timedelta('0 days 00:04:43.333737129')"
      ]
     },
     "execution_count": 802,
     "metadata": {},
     "output_type": "execute_result"
    }
   ],
   "source": [
    "df['Track Duration'].mean()"
   ]
  },
  {
   "cell_type": "code",
   "execution_count": 803,
   "id": "606a946e",
   "metadata": {},
   "outputs": [
    {
     "data": {
      "text/plain": [
       "Timedelta('0 days 00:04:15')"
      ]
     },
     "execution_count": 803,
     "metadata": {},
     "output_type": "execute_result"
    }
   ],
   "source": [
    "df['Track Duration'].median()"
   ]
  },
  {
   "cell_type": "markdown",
   "id": "46fa3f13",
   "metadata": {},
   "source": [
    "### Распределение добавления треков по\n",
    "- году их выпуска\n",
    "- времени\n",
    "- дню недели"
   ]
  },
  {
   "cell_type": "code",
   "execution_count": 824,
   "id": "c2af5ff6",
   "metadata": {},
   "outputs": [
    {
     "data": {
      "image/png": "[encoded data removed]",
      "text/plain": [
       "<Figure size 720x288 with 1 Axes>"
      ]
     },
     "metadata": {},
     "output_type": "display_data"
    }
   ],
   "source": [
    "df['release_year'] = df['Album Release Date'].dt.year\n",
    "release = df.groupby('release_year', as_index=False).agg({'Track Name': 'count'})\n",
    "\n",
    "plt.figure(figsize=(10,4));\n",
    "ax = sns.lineplot(data=release, x='release_year', y='Track Name');\n",
    "ax.set(ylabel=None);\n",
    "ax.set(xlabel=None);\n",
    "plt.title(\"Распределение треков по году релиза\", fontsize=16, fontweight='bold', y=1.05);"
   ]
  },
  {
   "cell_type": "code",
   "execution_count": 830,
   "id": "bdec960c",
   "metadata": {},
   "outputs": [
    {
     "data": {
      "image/png": "[encoded data removed]",
      "text/plain": [
       "<Figure size 576x288 with 1 Axes>"
      ]
     },
     "metadata": {},
     "output_type": "display_data"
    }
   ],
   "source": [
    "df['added_hour'] = df['Added At'].dt.hour \n",
    "\n",
    "\n",
    "plt.figure(figsize=(8,4))\n",
    "ax = sns.countplot(data=df, x='added_hour')\n",
    "ax.set(ylabel=None);\n",
    "ax.set(xlabel=None);\n",
    "#plt.xticks(ticks);\n",
    "plt.title(\"Распределение лайков по часам\", fontsize=16, fontweight='bold', y=1.05);"
   ]
  },
  {
   "cell_type": "code",
   "execution_count": 831,
   "id": "eddb818f",
   "metadata": {},
   "outputs": [
    {
     "data": {
      "image/png": "[encoded data removed]",
      "text/plain": [
       "<Figure size 576x288 with 1 Axes>"
      ]
     },
     "metadata": {},
     "output_type": "display_data"
    }
   ],
   "source": [
    "df['added_weekday'] = df['Added At'].dt.dayofweek\n",
    "df['added_weekday'] = df['added_weekday'].replace({0: 'Monday', 1: 'Tuesday', 2: 'Wednesday', \\\n",
    "                                3: 'Thursday', 4: 'Friday', 5: 'Saturday', 6: 'Sunday'})\n",
    "\n",
    "\n",
    "large_to_small = df.groupby('added_weekday').size().sort_values().index[::-1]\n",
    "\n",
    "\n",
    "plt.figure(figsize=(8,4))\n",
    "ax = sns.countplot(data=df, x='added_weekday', order=large_to_small)\n",
    "ax.set(ylabel=None);\n",
    "ax.set(xlabel=None);\n",
    "plt.title(\"Распределение лайков по дню недели\", fontsize=16, fontweight='bold', y=1.05);"
   ]
  },
  {
   "cell_type": "code",
   "execution_count": 810,
   "id": "2774d82b",
   "metadata": {},
   "outputs": [],
   "source": [
    "# df.to_csv('liked_tracks_prepared.csv', index=False) - для выгрузки очищенных данных"
   ]
  },
  {
   "cell_type": "markdown",
   "id": "ade820c3",
   "metadata": {},
   "source": [
    "### Выводы:\n",
    "\n",
    "- *Любимые исполнители*: Гражданская Оборона, Four Tet, Tortoise, Антоха МС, Noize MC, Nirvana, Röyksopp, Khruangbin, Bon Iver, Kraftwerk.\n",
    "- *Средняя популярность трека* - 30/100, что довольно низко. Дело здесь НЕ в том, что большинство треков были выпущены давно, так как большая часть лайков приходится на XXI век. Видимо, имеет значение, как часто эти треки слушают другие пользователи.\n",
    "- *Медианная продолжительность трека* - 4 минуты 15 секунд. \n",
    "- *Больше всего треков были добавлены в воскресенье*. Самый непопулярный день - пятница. Видимо, в конце рабочей недели не хочется искать свежую музыку :)\n",
    "- В целом, *чем новее музыка, тем больше я её лайкаю*. Большинство треков приходится на 2019-2021 года. Думаю, сюда бы и вошёл 2022 год, но Spotify ушёл из России в марте. \n",
    "- *Cамое активное время добавления* - середина дня (12-13) и ранний вечер (20-21). Скорее всего, это объясняется перерывом на работе и отдыхом после приезда домой."
   ]
  },
  {
   "cell_type": "markdown",
   "id": "bcfa90a2",
   "metadata": {},
   "source": [
    "Визуализацию получившихся результатов в Tableau можно посмотреть по ссылке:\n",
    "\n",
    "http://public.tableau.com/profile/api/publish/my_playlist_visualisation/spotify_liked"
   ]
  }
 ],
 "metadata": {
  "kernelspec": {
   "display_name": "Python 3 (ipykernel)",
   "language": "python",
   "name": "python3"
  },
  "language_info": {
   "codemirror_mode": {
    "name": "ipython",
    "version": 3
   },
   "file_extension": ".py",
   "mimetype": "text/x-python",
   "name": "python",
   "nbconvert_exporter": "python",
   "pygments_lexer": "ipython3",
   "version": "3.9.7"
  }
 },
 "nbformat": 4,
 "nbformat_minor": 5
}
