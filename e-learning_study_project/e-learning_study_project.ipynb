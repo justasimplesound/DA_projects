{
 "cells": [
  {
   "cell_type": "markdown",
   "metadata": {},
   "source": [
    "### Продакт-менеджер Василий попросил вас проанализировать завершенные уроки и ответить на следующие вопросы:\n",
    "\n",
    "1. Сколько студентов успешно сдали только один курс? (Успешная сдача — это зачёт по курсу на экзамене).\n",
    "\n",
    "\n",
    "2. Выяви самый сложный и самый простой экзамен: найди курсы и экзамены в рамках курса, которые обладают самой низкой и самой высокой завершаемостью*. (<font size=\"2\"> *завершаемость = кол-во успешных экзаменов / кол-во всех попыток сдать экзамен</font>)\n",
    "\n",
    "\n",
    "3. По каждому предмету определи средний срок сдачи экзаменов (под сдачей понимаем последнее успешное прохождение экзамена студентом). \n",
    "\n",
    "\n",
    "4. Выяви самые популярные курсы (ТОП-3) по количеству регистраций на них. А также курсы с самым большим оттоком (ТОП-3). \n",
    "\n",
    "\n",
    "5. Напиши функцию на python, позволяющую строить когортный (семестровый) анализ. В период с начала 2013 по конец 2014 выяви семестр с самой низкой завершаемостью курсов и самыми долгими средними сроками сдачи курсов. \n",
    "\n",
    "\n",
    "6. Часто для качественного анализа аудитории использую подходы, основанные на сегментации. Используя python, построй адаптированные RFM-кластеры студентов, чтобы качественно оценить свою аудиторию. В адаптированной кластеризации можешь выбрать следующие метрики: R - среднее время сдачи одного экзамена, F - завершаемость курсов, M - среднее количество баллов, получаемое за экзамен. Подробно опиши, как ты создавал кластеры. Для каждого RFM-сегмента построй границы метрик recency, frequency и monetary для интерпретации этих кластеров. Пример такого описания: RFM-сегмент 132 (recency=1, frequency=3, monetary=2) имеет границы метрик recency от 130 до 500 дней, frequency от 0.1 до 0.5, monetary от 55 до 72 баллов."
   ]
  },
  {
   "cell_type": "markdown",
   "metadata": {},
   "source": [
    "### Изучение данных"
   ]
  },
  {
   "cell_type": "code",
   "execution_count": 194,
   "metadata": {},
   "outputs": [],
   "source": [
    "import pandas as pd\n",
    "import numpy as np\n",
    "import seaborn as sns\n",
    "import matplotlib.pyplot as plt"
   ]
  },
  {
   "cell_type": "code",
   "execution_count": 195,
   "metadata": {},
   "outputs": [],
   "source": [
    "sns.set_theme(style=\"darkgrid\")"
   ]
  },
  {
   "cell_type": "code",
   "execution_count": 196,
   "metadata": {},
   "outputs": [],
   "source": [
    "df_assessements = pd.read_csv('assessments.csv')\n",
    "df_courses = pd.read_csv('courses.csv')\n",
    "df_student_assessement = pd.read_csv('studentAssessment.csv')\n",
    "df_student_registration = pd.read_csv('studentRegistration.csv')"
   ]
  },
  {
   "cell_type": "code",
   "execution_count": 197,
   "metadata": {},
   "outputs": [
    {
     "name": "stdout",
     "output_type": "stream",
     "text": [
      "  code_module code_presentation  id_assessment assessment_type   date  weight\n",
      "0         AAA             2013J           1752             TMA   19.0    10.0\n",
      "1         AAA             2013J           1753             TMA   54.0    20.0\n",
      "2         AAA             2013J           1754             TMA  117.0    20.0\n",
      "3         AAA             2013J           1755             TMA  166.0    20.0\n",
      "4         AAA             2013J           1756             TMA  215.0    30.0 \n",
      "\n",
      "(206, 6)\n",
      "['TMA' 'Exam' 'CMA']\n"
     ]
    }
   ],
   "source": [
    "print(df_assessements.head(), '\\n')\n",
    "print(df_assessements.shape)\n",
    "print(df_assessements.assessment_type.unique())"
   ]
  },
  {
   "cell_type": "markdown",
   "metadata": {},
   "source": [
    "#### Описание столбцов:\n",
    "\n",
    "- *code_module* — идентификационный код предмета.\n",
    "\n",
    "- *code_presentation* — семестр (Идентификационный код).\n",
    "\n",
    "- *id_assessment* — тест (Идентификационный номер ассессмента).\n",
    "\n",
    "- *assessment_type* — тип теста. Существуют три типа оценивания: оценка преподавателя (TMA), компьютерная оценка (СМА), экзамен по курсу (Exam).\n",
    "\n",
    "- *date* — информация об окончательной дате сдачи теста. Рассчитывается как количество дней с момента начала семестра. Дата начала семестра имеет номер 0 (ноль).\n",
    "\n",
    "- *weight* — вес теста в % в оценке за курс. Обычно экзамены рассматриваются отдельно и имеют вес 100%; сумма всех остальных оценок составляет 100%."
   ]
  },
  {
   "cell_type": "code",
   "execution_count": 198,
   "metadata": {},
   "outputs": [
    {
     "data": {
      "text/plain": [
       "code_module           0\n",
       "code_presentation     0\n",
       "id_assessment         0\n",
       "assessment_type       0\n",
       "date                 11\n",
       "weight                0\n",
       "dtype: int64"
      ]
     },
     "execution_count": 198,
     "metadata": {},
     "output_type": "execute_result"
    }
   ],
   "source": [
    "df_assessements.isna().sum()"
   ]
  },
  {
   "cell_type": "code",
   "execution_count": 199,
   "metadata": {},
   "outputs": [
    {
     "data": {
      "text/html": [
       "<div>\n",
       "<style scoped>\n",
       "    .dataframe tbody tr th:only-of-type {\n",
       "        vertical-align: middle;\n",
       "    }\n",
       "\n",
       "    .dataframe tbody tr th {\n",
       "        vertical-align: top;\n",
       "    }\n",
       "\n",
       "    .dataframe thead th {\n",
       "        text-align: right;\n",
       "    }\n",
       "</style>\n",
       "<table border=\"1\" class=\"dataframe\">\n",
       "  <thead>\n",
       "    <tr style=\"text-align: right;\">\n",
       "      <th></th>\n",
       "      <th>code_module</th>\n",
       "      <th>code_presentation</th>\n",
       "      <th>id_assessment</th>\n",
       "      <th>assessment_type</th>\n",
       "      <th>date</th>\n",
       "      <th>weight</th>\n",
       "    </tr>\n",
       "  </thead>\n",
       "  <tbody>\n",
       "  </tbody>\n",
       "</table>\n",
       "</div>"
      ],
      "text/plain": [
       "Empty DataFrame\n",
       "Columns: [code_module, code_presentation, id_assessment, assessment_type, date, weight]\n",
       "Index: []"
      ]
     },
     "execution_count": 199,
     "metadata": {},
     "output_type": "execute_result"
    }
   ],
   "source": [
    "df_assessements[df_assessements.duplicated()] # дубликатов нет"
   ]
  },
  {
   "cell_type": "markdown",
   "metadata": {},
   "source": [
    "Имеются пропуски в столбце <u>date</u>, однако мы не будем убирать данные строки - они могут понадобиться при дальнейшей работе."
   ]
  },
  {
   "cell_type": "markdown",
   "metadata": {},
   "source": [
    "---"
   ]
  },
  {
   "cell_type": "code",
   "execution_count": 200,
   "metadata": {},
   "outputs": [
    {
     "name": "stdout",
     "output_type": "stream",
     "text": [
      "  code_module code_presentation  module_presentation_length\n",
      "0         AAA             2013J                         268\n",
      "1         AAA             2014J                         269\n",
      "2         BBB             2013J                         268\n",
      "3         BBB             2014J                         262\n",
      "4         BBB             2013B                         240 \n",
      "\n",
      "(22, 3)\n"
     ]
    }
   ],
   "source": [
    "print(df_courses.head(), '\\n')\n",
    "print(df_courses.shape)"
   ]
  },
  {
   "cell_type": "markdown",
   "metadata": {},
   "source": [
    "#### Описание столбцов:\n",
    "\n",
    "- *code_module* — предмет (идентификационный код).\n",
    "\n",
    "- *code_presentation* — семестр (идентификационный код).\n",
    "\n",
    "- *module_presentation_length* — продолжительность семестра в днях."
   ]
  },
  {
   "cell_type": "code",
   "execution_count": 201,
   "metadata": {},
   "outputs": [
    {
     "data": {
      "text/plain": [
       "code_module                   0\n",
       "code_presentation             0\n",
       "module_presentation_length    0\n",
       "dtype: int64"
      ]
     },
     "execution_count": 201,
     "metadata": {},
     "output_type": "execute_result"
    }
   ],
   "source": [
    "df_courses.isna().sum() # пропусков нет"
   ]
  },
  {
   "cell_type": "code",
   "execution_count": 202,
   "metadata": {},
   "outputs": [
    {
     "data": {
      "text/html": [
       "<div>\n",
       "<style scoped>\n",
       "    .dataframe tbody tr th:only-of-type {\n",
       "        vertical-align: middle;\n",
       "    }\n",
       "\n",
       "    .dataframe tbody tr th {\n",
       "        vertical-align: top;\n",
       "    }\n",
       "\n",
       "    .dataframe thead th {\n",
       "        text-align: right;\n",
       "    }\n",
       "</style>\n",
       "<table border=\"1\" class=\"dataframe\">\n",
       "  <thead>\n",
       "    <tr style=\"text-align: right;\">\n",
       "      <th></th>\n",
       "      <th>code_module</th>\n",
       "      <th>code_presentation</th>\n",
       "      <th>module_presentation_length</th>\n",
       "    </tr>\n",
       "  </thead>\n",
       "  <tbody>\n",
       "  </tbody>\n",
       "</table>\n",
       "</div>"
      ],
      "text/plain": [
       "Empty DataFrame\n",
       "Columns: [code_module, code_presentation, module_presentation_length]\n",
       "Index: []"
      ]
     },
     "execution_count": 202,
     "metadata": {},
     "output_type": "execute_result"
    }
   ],
   "source": [
    "df_courses[df_courses.duplicated()] # дубликатов нет"
   ]
  },
  {
   "cell_type": "markdown",
   "metadata": {},
   "source": [
    "---"
   ]
  },
  {
   "cell_type": "code",
   "execution_count": 203,
   "metadata": {},
   "outputs": [
    {
     "name": "stdout",
     "output_type": "stream",
     "text": [
      "   id_assessment  id_student  date_submitted  is_banked  score\n",
      "0           1752       11391              18          0   78.0\n",
      "1           1752       28400              22          0   70.0\n",
      "2           1752       31604              17          0   72.0\n",
      "3           1752       32885              26          0   69.0\n",
      "4           1752       38053              19          0   79.0 \n",
      "\n",
      "(173912, 5)\n"
     ]
    }
   ],
   "source": [
    "print(df_student_assessement.head(), '\\n')\n",
    "print(df_student_assessement.shape)"
   ]
  },
  {
   "cell_type": "markdown",
   "metadata": {},
   "source": [
    "#### Описание столбцов:\n",
    "\n",
    "- *id_assessment* — тест (идентификационный номер).\n",
    "\n",
    "- *id_student* — идентификационный номер студента.\n",
    "\n",
    "- *date_submitted* — дата сдачи теста студентом, измеряемая как количество дней с начала семестра.\n",
    "\n",
    "- *is_banked* — факт перезачета теста с прошлого семестра (иногда курсы перезачитывают студентам, вернувшимся из академического отпуска).\n",
    "\n",
    "- *score* — оценка учащегося в этом тесте. Диапазон составляет от 0 до 100. Оценка ниже 40 неудачная/неуспешная сдача теста."
   ]
  },
  {
   "cell_type": "code",
   "execution_count": 204,
   "metadata": {},
   "outputs": [
    {
     "data": {
      "text/plain": [
       "id_assessment       0\n",
       "id_student          0\n",
       "date_submitted      0\n",
       "is_banked           0\n",
       "score             173\n",
       "dtype: int64"
      ]
     },
     "execution_count": 204,
     "metadata": {},
     "output_type": "execute_result"
    }
   ],
   "source": [
    "df_student_assessement.isna().sum()"
   ]
  },
  {
   "cell_type": "code",
   "execution_count": 205,
   "metadata": {},
   "outputs": [
    {
     "data": {
      "text/html": [
       "<div>\n",
       "<style scoped>\n",
       "    .dataframe tbody tr th:only-of-type {\n",
       "        vertical-align: middle;\n",
       "    }\n",
       "\n",
       "    .dataframe tbody tr th {\n",
       "        vertical-align: top;\n",
       "    }\n",
       "\n",
       "    .dataframe thead th {\n",
       "        text-align: right;\n",
       "    }\n",
       "</style>\n",
       "<table border=\"1\" class=\"dataframe\">\n",
       "  <thead>\n",
       "    <tr style=\"text-align: right;\">\n",
       "      <th></th>\n",
       "      <th>id_assessment</th>\n",
       "      <th>id_student</th>\n",
       "      <th>date_submitted</th>\n",
       "      <th>is_banked</th>\n",
       "      <th>score</th>\n",
       "    </tr>\n",
       "  </thead>\n",
       "  <tbody>\n",
       "  </tbody>\n",
       "</table>\n",
       "</div>"
      ],
      "text/plain": [
       "Empty DataFrame\n",
       "Columns: [id_assessment, id_student, date_submitted, is_banked, score]\n",
       "Index: []"
      ]
     },
     "execution_count": 205,
     "metadata": {},
     "output_type": "execute_result"
    }
   ],
   "source": [
    "df_student_assessement[df_student_assessement.duplicated()] # дубликатов нет"
   ]
  },
  {
   "cell_type": "markdown",
   "metadata": {},
   "source": [
    "Имеются NaN'ы в столбце <u>score</u>, но опять-таки лучше их оставить и отфильтровать при необходимости позже."
   ]
  },
  {
   "cell_type": "markdown",
   "metadata": {},
   "source": [
    "---"
   ]
  },
  {
   "cell_type": "code",
   "execution_count": 206,
   "metadata": {},
   "outputs": [
    {
     "data": {
      "text/html": [
       "<div>\n",
       "<style scoped>\n",
       "    .dataframe tbody tr th:only-of-type {\n",
       "        vertical-align: middle;\n",
       "    }\n",
       "\n",
       "    .dataframe tbody tr th {\n",
       "        vertical-align: top;\n",
       "    }\n",
       "\n",
       "    .dataframe thead th {\n",
       "        text-align: right;\n",
       "    }\n",
       "</style>\n",
       "<table border=\"1\" class=\"dataframe\">\n",
       "  <thead>\n",
       "    <tr style=\"text-align: right;\">\n",
       "      <th></th>\n",
       "      <th>code_module</th>\n",
       "      <th>code_presentation</th>\n",
       "      <th>id_student</th>\n",
       "      <th>date_registration</th>\n",
       "      <th>date_unregistration</th>\n",
       "    </tr>\n",
       "  </thead>\n",
       "  <tbody>\n",
       "    <tr>\n",
       "      <th>0</th>\n",
       "      <td>AAA</td>\n",
       "      <td>2013J</td>\n",
       "      <td>11391</td>\n",
       "      <td>-159.0</td>\n",
       "      <td>NaN</td>\n",
       "    </tr>\n",
       "    <tr>\n",
       "      <th>1</th>\n",
       "      <td>AAA</td>\n",
       "      <td>2013J</td>\n",
       "      <td>28400</td>\n",
       "      <td>-53.0</td>\n",
       "      <td>NaN</td>\n",
       "    </tr>\n",
       "    <tr>\n",
       "      <th>2</th>\n",
       "      <td>AAA</td>\n",
       "      <td>2013J</td>\n",
       "      <td>30268</td>\n",
       "      <td>-92.0</td>\n",
       "      <td>12.0</td>\n",
       "    </tr>\n",
       "    <tr>\n",
       "      <th>3</th>\n",
       "      <td>AAA</td>\n",
       "      <td>2013J</td>\n",
       "      <td>31604</td>\n",
       "      <td>-52.0</td>\n",
       "      <td>NaN</td>\n",
       "    </tr>\n",
       "    <tr>\n",
       "      <th>4</th>\n",
       "      <td>AAA</td>\n",
       "      <td>2013J</td>\n",
       "      <td>32885</td>\n",
       "      <td>-176.0</td>\n",
       "      <td>NaN</td>\n",
       "    </tr>\n",
       "  </tbody>\n",
       "</table>\n",
       "</div>"
      ],
      "text/plain": [
       "  code_module code_presentation  id_student  date_registration  \\\n",
       "0         AAA             2013J       11391             -159.0   \n",
       "1         AAA             2013J       28400              -53.0   \n",
       "2         AAA             2013J       30268              -92.0   \n",
       "3         AAA             2013J       31604              -52.0   \n",
       "4         AAA             2013J       32885             -176.0   \n",
       "\n",
       "   date_unregistration  \n",
       "0                  NaN  \n",
       "1                  NaN  \n",
       "2                 12.0  \n",
       "3                  NaN  \n",
       "4                  NaN  "
      ]
     },
     "execution_count": 206,
     "metadata": {},
     "output_type": "execute_result"
    }
   ],
   "source": [
    "df_student_registration.head()"
   ]
  },
  {
   "cell_type": "markdown",
   "metadata": {},
   "source": [
    "#### Описание столбцов:\n",
    "\n",
    "- *code_module* — предмет (идентификационный код).\n",
    "\n",
    "- *code_presentation* — семестр (идентификационный код)\n",
    "\n",
    "- *id_student* — идентификационный номер студента.\n",
    "\n",
    "- *date_registration* — дата регистрации студента. Это количество дней, измеренное от начала семестра (например, отрицательное значение -30 означает, что студент зарегистрировался на прохождение курса за 30 дней до его начала).\n",
    "\n",
    "- *date_unregistration* — дата отмены регистрации студента с предмета. У студентов, окончивших курс, это поле остается пустым."
   ]
  },
  {
   "cell_type": "code",
   "execution_count": 207,
   "metadata": {},
   "outputs": [
    {
     "name": "stdout",
     "output_type": "stream",
     "text": [
      "(32593, 5)\n",
      "code_module                0\n",
      "code_presentation          0\n",
      "id_student                 0\n",
      "date_registration         45\n",
      "date_unregistration    22521\n",
      "dtype: int64\n"
     ]
    }
   ],
   "source": [
    "print(df_student_registration.shape)\n",
    "print(df_student_registration.isna().sum())"
   ]
  },
  {
   "cell_type": "code",
   "execution_count": 208,
   "metadata": {},
   "outputs": [
    {
     "data": {
      "text/html": [
       "<div>\n",
       "<style scoped>\n",
       "    .dataframe tbody tr th:only-of-type {\n",
       "        vertical-align: middle;\n",
       "    }\n",
       "\n",
       "    .dataframe tbody tr th {\n",
       "        vertical-align: top;\n",
       "    }\n",
       "\n",
       "    .dataframe thead th {\n",
       "        text-align: right;\n",
       "    }\n",
       "</style>\n",
       "<table border=\"1\" class=\"dataframe\">\n",
       "  <thead>\n",
       "    <tr style=\"text-align: right;\">\n",
       "      <th></th>\n",
       "      <th>code_module</th>\n",
       "      <th>code_presentation</th>\n",
       "      <th>id_student</th>\n",
       "      <th>date_registration</th>\n",
       "      <th>date_unregistration</th>\n",
       "    </tr>\n",
       "  </thead>\n",
       "  <tbody>\n",
       "  </tbody>\n",
       "</table>\n",
       "</div>"
      ],
      "text/plain": [
       "Empty DataFrame\n",
       "Columns: [code_module, code_presentation, id_student, date_registration, date_unregistration]\n",
       "Index: []"
      ]
     },
     "execution_count": 208,
     "metadata": {},
     "output_type": "execute_result"
    }
   ],
   "source": [
    "df_student_registration[df_student_registration.duplicated()] # дубликатов нет"
   ]
  },
  {
   "cell_type": "markdown",
   "metadata": {},
   "source": [
    "В наличие пропусков в <u>date_unregistration</u> нет ничего удивительного - эти люди закончили курс. А вот отстутствие даты регистрации заставляет насторожиться - этих студентов нельзя будет учитывать, если надо будет работать с регистрацией."
   ]
  },
  {
   "cell_type": "markdown",
   "metadata": {},
   "source": [
    "---\n",
    "---\n",
    "---"
   ]
  },
  {
   "cell_type": "markdown",
   "metadata": {},
   "source": [
    "#### 1. Сколько студентов успешно сдали только один курс? (Успешная сдача — это зачёт по курсу на экзамене).\n",
    "\n",
    "Сначала оставим только тех, кто вообще сдавал экзамен, и объединим получившиеся данные с таблицой по результатам."
   ]
  },
  {
   "cell_type": "code",
   "execution_count": 209,
   "metadata": {},
   "outputs": [],
   "source": [
    "df_exams = df_assessements[df_assessements.assessment_type == 'Exam']\n",
    "\n",
    "df_score_subject = df_student_assessement \\\n",
    "    .merge(df_exams, on='id_assessment') "
   ]
  },
  {
   "cell_type": "markdown",
   "metadata": {},
   "source": [
    "Оставим тех, кто сдал экзамен (балл >= 40) и отберём только уникальных студентов, чтобы не было повторов. Затем фильтруем по условию (только <b>один</b> курс)."
   ]
  },
  {
   "cell_type": "code",
   "execution_count": 234,
   "metadata": {},
   "outputs": [],
   "source": [
    "df_students_success_exams_is_one = df_score_subject \\\n",
    "    [(df_score_subject.assessment_type == 'Exam') & (df_score_subject.score >= 40)] \\\n",
    "    .groupby('id_student', as_index=False) \\\n",
    "    .agg({'id_assessment': 'count'}) \\\n",
    "    .rename(columns={'id_assessment': 'success_exams'}) \\\n",
    "    .query('success_exams == 1') \\\n",
    "    .id_student.nunique()"
   ]
  },
  {
   "cell_type": "code",
   "execution_count": 235,
   "metadata": {},
   "outputs": [
    {
     "data": {
      "text/plain": [
       "3802"
      ]
     },
     "execution_count": 235,
     "metadata": {},
     "output_type": "execute_result"
    }
   ],
   "source": [
    "df_students_success_exams_is_one"
   ]
  },
  {
   "cell_type": "markdown",
   "metadata": {},
   "source": [
    "---"
   ]
  },
  {
   "cell_type": "markdown",
   "metadata": {},
   "source": [
    "#### 2. Выяви самый сложный и самый простой экзамен: найди курсы и экзамены в рамках курса, которые обладают самой низкой и самой высокой завершаемостью*. \n",
    "##### * *завершаемость = кол-во успешных экзаменов / кол-во всех попыток сдать экзамен*"
   ]
  },
  {
   "cell_type": "markdown",
   "metadata": {},
   "source": [
    "Создадим два датасета: \n",
    "\n",
    "1) где будем считать общее кол-во студентов по курсам и экзаменам;\n",
    "\n",
    "2) и кол-во студентов, успешной сдавших экзамен;"
   ]
  },
  {
   "cell_type": "code",
   "execution_count": 212,
   "metadata": {},
   "outputs": [],
   "source": [
    "df_exams_all_results = df_score_subject \\\n",
    "    .groupby(['code_module', 'id_assessment'], as_index=False) \\\n",
    "    .agg({'id_student': 'count'}) \\\n",
    "    .rename(columns={'id_student': 'student_count'})\n",
    "\n",
    "df_exams_good_results = df_score_subject \\\n",
    "    .query('score >= 40') \\\n",
    "    .groupby(['code_module', 'id_assessment'], as_index=False) \\\n",
    "    .agg({'id_student': 'count'}) \\\n",
    "    .rename(columns={'id_student': 'student_count'})"
   ]
  },
  {
   "cell_type": "markdown",
   "metadata": {},
   "source": [
    "Объединим таблицы и добавим колонку с завершаемостью по формуле выше.\n",
    "Затем отсортируем по завершаемости сверху вниз."
   ]
  },
  {
   "cell_type": "code",
   "execution_count": 213,
   "metadata": {},
   "outputs": [
    {
     "data": {
      "text/html": [
       "<div>\n",
       "<style scoped>\n",
       "    .dataframe tbody tr th:only-of-type {\n",
       "        vertical-align: middle;\n",
       "    }\n",
       "\n",
       "    .dataframe tbody tr th {\n",
       "        vertical-align: top;\n",
       "    }\n",
       "\n",
       "    .dataframe thead th {\n",
       "        text-align: right;\n",
       "    }\n",
       "</style>\n",
       "<table border=\"1\" class=\"dataframe\">\n",
       "  <thead>\n",
       "    <tr style=\"text-align: right;\">\n",
       "      <th></th>\n",
       "      <th>code_module</th>\n",
       "      <th>id_assessment</th>\n",
       "      <th>student_count_x</th>\n",
       "      <th>student_count_y</th>\n",
       "      <th>completeness</th>\n",
       "    </tr>\n",
       "  </thead>\n",
       "  <tbody>\n",
       "    <tr>\n",
       "      <th>4</th>\n",
       "      <td>DDD</td>\n",
       "      <td>25361</td>\n",
       "      <td>485</td>\n",
       "      <td>524</td>\n",
       "      <td>92.6</td>\n",
       "    </tr>\n",
       "    <tr>\n",
       "      <th>3</th>\n",
       "      <td>DDD</td>\n",
       "      <td>25354</td>\n",
       "      <td>878</td>\n",
       "      <td>968</td>\n",
       "      <td>90.7</td>\n",
       "    </tr>\n",
       "    <tr>\n",
       "      <th>0</th>\n",
       "      <td>CCC</td>\n",
       "      <td>24290</td>\n",
       "      <td>664</td>\n",
       "      <td>747</td>\n",
       "      <td>88.9</td>\n",
       "    </tr>\n",
       "    <tr>\n",
       "      <th>5</th>\n",
       "      <td>DDD</td>\n",
       "      <td>25368</td>\n",
       "      <td>842</td>\n",
       "      <td>950</td>\n",
       "      <td>88.6</td>\n",
       "    </tr>\n",
       "    <tr>\n",
       "      <th>1</th>\n",
       "      <td>CCC</td>\n",
       "      <td>24299</td>\n",
       "      <td>1019</td>\n",
       "      <td>1168</td>\n",
       "      <td>87.2</td>\n",
       "    </tr>\n",
       "    <tr>\n",
       "      <th>2</th>\n",
       "      <td>DDD</td>\n",
       "      <td>25340</td>\n",
       "      <td>504</td>\n",
       "      <td>602</td>\n",
       "      <td>83.7</td>\n",
       "    </tr>\n",
       "  </tbody>\n",
       "</table>\n",
       "</div>"
      ],
      "text/plain": [
       "  code_module  id_assessment  student_count_x  student_count_y  completeness\n",
       "4         DDD          25361              485              524          92.6\n",
       "3         DDD          25354              878              968          90.7\n",
       "0         CCC          24290              664              747          88.9\n",
       "5         DDD          25368              842              950          88.6\n",
       "1         CCC          24299             1019             1168          87.2\n",
       "2         DDD          25340              504              602          83.7"
      ]
     },
     "execution_count": 213,
     "metadata": {},
     "output_type": "execute_result"
    }
   ],
   "source": [
    "df_good_to_all = df_exams_good_results.merge(df_exams_all_results, on=['code_module','id_assessment']) \n",
    "df_good_to_all['completeness'] = df_good_to_all['student_count_x'] / df_good_to_all['student_count_y']\n",
    "df_good_to_all['completeness'] = df_good_to_all['completeness'].mul(100).round(1)\n",
    "df_good_to_all.sort_values('completeness', ascending=False)"
   ]
  },
  {
   "cell_type": "markdown",
   "metadata": {},
   "source": [
    "Визуализируем данные для большей наглядности, определив нижнюю границу оси ординат в 80% и отсортировав в порядке убывания."
   ]
  },
  {
   "cell_type": "code",
   "execution_count": 239,
   "metadata": {},
   "outputs": [
    {
     "data": {
      "image/png": "[encoded data removed]",
      "text/plain": [
       "<Figure size 720x288 with 1 Axes>"
      ]
     },
     "metadata": {},
     "output_type": "display_data"
    }
   ],
   "source": [
    "df_good_to_all['code_and_assessment'] = df_good_to_all['code_module'] + ' | ' + df_good_to_all['id_assessment'].astype(str)\n",
    "\n",
    "\n",
    "plt.figure(figsize=(10,4))\n",
    "ax = sns.barplot(x='code_and_assessment', y='completeness', data=df_good_to_all, \\\n",
    "                order=df_good_to_all.sort_values('completeness', ascending=False).code_and_assessment);\n",
    "ax.set(xlabel=None);\n",
    "ax.set(ylabel=None);\n",
    "plt.title('Завершаемость экзаменов по курсам', fontsize=14, y=1.05);\n",
    "plt.ylim(80, 95);"
   ]
  },
  {
   "cell_type": "markdown",
   "metadata": {},
   "source": [
    "---"
   ]
  },
  {
   "cell_type": "markdown",
   "metadata": {},
   "source": [
    "#### 3. По каждому предмету определи средний срок сдачи экзаменов (под сдачей понимаем последнее успешное прохождение экзамена студентом).\n",
    "\n",
    "Фильтруем по условию, группируем по предмету и считаем среднее."
   ]
  },
  {
   "cell_type": "code",
   "execution_count": 240,
   "metadata": {},
   "outputs": [],
   "source": [
    "avg_date_exam = df_score_subject.query('score >= 40') \\\n",
    "    .groupby('code_module', as_index=False) \\\n",
    "    .agg({'date_submitted': 'mean'})"
   ]
  },
  {
   "cell_type": "markdown",
   "metadata": {},
   "source": [
    "---"
   ]
  },
  {
   "cell_type": "markdown",
   "metadata": {},
   "source": [
    "#### 4. Выяви самые популярные курсы (ТОП-3) по количеству регистраций на них. А также курсы с самым большим оттоком (ТОП-3). \n",
    "\n",
    "Берем <u>code_module</u> курса, считаем кол-во уникальных студентов (так как могли записываться по нескольку раз на один курс), сортируем и оставляем топ-3. \n",
    "\n",
    "Для расчёта оттока нужно предварительно вычесть количество дублирующихся студентов, так как они снова пришли на курс и это не может считать оттоком.\n",
    "\n",
    "* *nunique по дефолту не учитывает NaN'ы*"
   ]
  },
  {
   "cell_type": "code",
   "execution_count": 241,
   "metadata": {},
   "outputs": [],
   "source": [
    "top_3_courses_registration = df_student_registration.groupby('code_module', as_index=False) \\\n",
    "    .agg({'id_student': 'nunique', 'date_registration': 'count'}) \\\n",
    "    .rename(columns={'id_student': 'unique_registrations', 'date_registration' : 'all_registrations'}) \\\n",
    "    .sort_values('unique_registrations', ascending=False) \n",
    "\n",
    "top_3_courses_registration['double_reg'] = top_3_courses_registration['all_registrations'] - \\\n",
    "                                    top_3_courses_registration['unique_registrations']\n",
    "\n",
    "\n",
    "\n",
    "top_3_courses_unregistration = df_student_registration.groupby('code_module', as_index=False) \\\n",
    "    .agg({'date_unregistration': 'count'}) \\\n",
    "    .rename(columns={'date_unregistration': 'students_unregistered'}) \\\n",
    "    .sort_values('students_unregistered', ascending=False) \\\n",
    "\n",
    "\n",
    "reg_unreg_merge = top_3_courses_unregistration.merge(top_3_courses_registration, on='code_module')\n",
    "reg_unreg_merge['true_unregistrations'] = reg_unreg_merge.students_unregistered - reg_unreg_merge.double_reg\n",
    "\n",
    "\n",
    "top_3_courses_unregistration = reg_unreg_merge[['code_module', 'true_unregistrations']] \\\n",
    "                                .sort_values('true_unregistrations', ascending=False)\n",
    "top_3_courses_registration = top_3_courses_registration[['code_module', 'unique_registrations']]"
   ]
  },
  {
   "cell_type": "code",
   "execution_count": 242,
   "metadata": {},
   "outputs": [
    {
     "data": {
      "text/html": [
       "<div>\n",
       "<style scoped>\n",
       "    .dataframe tbody tr th:only-of-type {\n",
       "        vertical-align: middle;\n",
       "    }\n",
       "\n",
       "    .dataframe tbody tr th {\n",
       "        vertical-align: top;\n",
       "    }\n",
       "\n",
       "    .dataframe thead th {\n",
       "        text-align: right;\n",
       "    }\n",
       "</style>\n",
       "<table border=\"1\" class=\"dataframe\">\n",
       "  <thead>\n",
       "    <tr style=\"text-align: right;\">\n",
       "      <th></th>\n",
       "      <th>code_module</th>\n",
       "      <th>unique_registrations</th>\n",
       "    </tr>\n",
       "  </thead>\n",
       "  <tbody>\n",
       "    <tr>\n",
       "      <th>1</th>\n",
       "      <td>BBB</td>\n",
       "      <td>7692</td>\n",
       "    </tr>\n",
       "    <tr>\n",
       "      <th>5</th>\n",
       "      <td>FFF</td>\n",
       "      <td>7397</td>\n",
       "    </tr>\n",
       "    <tr>\n",
       "      <th>3</th>\n",
       "      <td>DDD</td>\n",
       "      <td>5848</td>\n",
       "    </tr>\n",
       "  </tbody>\n",
       "</table>\n",
       "</div>"
      ],
      "text/plain": [
       "  code_module  unique_registrations\n",
       "1         BBB                  7692\n",
       "5         FFF                  7397\n",
       "3         DDD                  5848"
      ]
     },
     "execution_count": 242,
     "metadata": {},
     "output_type": "execute_result"
    }
   ],
   "source": [
    "top_3_courses_registration.head(3)"
   ]
  },
  {
   "cell_type": "code",
   "execution_count": 243,
   "metadata": {},
   "outputs": [
    {
     "data": {
      "text/html": [
       "<div>\n",
       "<style scoped>\n",
       "    .dataframe tbody tr th:only-of-type {\n",
       "        vertical-align: middle;\n",
       "    }\n",
       "\n",
       "    .dataframe tbody tr th {\n",
       "        vertical-align: top;\n",
       "    }\n",
       "\n",
       "    .dataframe thead th {\n",
       "        text-align: right;\n",
       "    }\n",
       "</style>\n",
       "<table border=\"1\" class=\"dataframe\">\n",
       "  <thead>\n",
       "    <tr style=\"text-align: right;\">\n",
       "      <th></th>\n",
       "      <th>code_module</th>\n",
       "      <th>true_unregistrations</th>\n",
       "    </tr>\n",
       "  </thead>\n",
       "  <tbody>\n",
       "    <tr>\n",
       "      <th>1</th>\n",
       "      <td>BBB</td>\n",
       "      <td>2169</td>\n",
       "    </tr>\n",
       "    <tr>\n",
       "      <th>0</th>\n",
       "      <td>FFF</td>\n",
       "      <td>2026</td>\n",
       "    </tr>\n",
       "    <tr>\n",
       "      <th>2</th>\n",
       "      <td>DDD</td>\n",
       "      <td>1826</td>\n",
       "    </tr>\n",
       "  </tbody>\n",
       "</table>\n",
       "</div>"
      ],
      "text/plain": [
       "  code_module  true_unregistrations\n",
       "1         BBB                  2169\n",
       "0         FFF                  2026\n",
       "2         DDD                  1826"
      ]
     },
     "execution_count": 243,
     "metadata": {},
     "output_type": "execute_result"
    }
   ],
   "source": [
    "top_3_courses_unregistration.head(3)"
   ]
  },
  {
   "cell_type": "markdown",
   "metadata": {},
   "source": [
    "Визуализация соотношения притока к оттоку:"
   ]
  },
  {
   "cell_type": "code",
   "execution_count": 244,
   "metadata": {},
   "outputs": [
    {
     "data": {
      "image/png": "[encoded data removed]",
      "text/plain": [
       "<Figure size 440.975x360 with 1 Axes>"
      ]
     },
     "metadata": {},
     "output_type": "display_data"
    }
   ],
   "source": [
    "top_3_courses_registration['type'] = 'приток'\n",
    "top_3_courses_unregistration = top_3_courses_unregistration.rename(columns={'true_unregistrations': 'number'})\n",
    "top_3_courses_unregistration['type'] = 'отток'\n",
    "top_3_courses_registration = top_3_courses_registration.rename(columns={'unique_registrations': 'number'})\n",
    "\n",
    "\n",
    "data = [top_3_courses_registration, top_3_courses_unregistration]\n",
    "pritok_ottok = pd.concat(data)\n",
    "\n",
    "\n",
    "ax = sns.catplot(x ='code_module', y ='number',\n",
    "               hue = 'type', kind='bar', data = pritok_ottok, palette = \"flare\");\n",
    "ax.set(xlabel=None);\n",
    "ax.set(ylabel=None);\n",
    "plt.title('Cоотношение притока к оттоку по курсам', fontsize=15, y=1.1);"
   ]
  },
  {
   "cell_type": "markdown",
   "metadata": {},
   "source": [
    "---"
   ]
  },
  {
   "cell_type": "markdown",
   "metadata": {},
   "source": [
    "#### 5.Напиши функцию на python, позволяющую строить когортный (семестровый) анализ. В период с начала 2013 по конец 2014 выяви семестр с самой низкой завершаемостью курсов и самыми долгими средними сроками сдачи курсов. (10 баллов) "
   ]
  },
  {
   "cell_type": "markdown",
   "metadata": {},
   "source": [
    "<b>Пример</b>: пользователь пришел на сайт из контекстной рекламы 17 июля и купил окно. Его можно включить сразу в три группы:\n",
    "\n",
    "- <u>Пользователи, пришедшие с контекстной рекламы</u>. Помогает определить эффективность контекста по сравнению с другими каналами привлечения покупателей.\n",
    "- <u>Клиенты, купившие окно в июле</u>. Позволяет определить сезонность продаж.\n",
    "- <u>Покупатели товара «окно»</u>. Помогает в определении спроса на конкретный товар у разных групп целевой аудитории."
   ]
  },
  {
   "cell_type": "markdown",
   "metadata": {},
   "source": [
    "<b>Теоретические положения когортного анализа</b>:\n",
    "    \n",
    "    \n",
    "- *Суть когортного анализа* — объединение клиентов (пользователей, посетителей) в группы по одинаковым характеристикам или атрибутам и отслеживание их поведения во времени;\n",
    "\n",
    "- *Признак формирования когорты* — действие, которое объединяет людей в группу: первый визит, покупка, установка, регистрация и т.п.\n",
    "\n",
    "-  *Размер когорты* — временной интервал: день, неделя, месяц;\n",
    "\n",
    "- *Отчетный период* — время исследования поведения групп;\n",
    "\n",
    "- *Анализируемый ключевой показатель*: ROI, Retention Rate, LTV и т.д.\n",
    "\n",
    "\n",
    "Когорта отличается от сегмента именно временным признаком."
   ]
  },
  {
   "cell_type": "markdown",
   "metadata": {},
   "source": [
    "<b>В контексте задачи</b>:\n",
    "\n",
    "- *Признак когорты* - студенты;\n",
    "- *Размер* - семестр в период с 2013 по 2014 год;\n",
    "- *Анализируемые показатели*  - завершаемость и сроки сдачи курсов."
   ]
  },
  {
   "cell_type": "markdown",
   "metadata": {},
   "source": [
    "Сначала рассчитаем завершаемость по семестрам. \n",
    "\n",
    "В первой переменной считаем количество сдавших экзамены, во второй - общее число попыток. Затем делим одно на другое, приводим в удобочитаемый вид, и получаем завершамость.\n",
    "\n",
    "В каждом случае нам нужно сначала объединить 2 таблицы, так как результаты тестирования находятся в отдельной таблице. В конечной таблице лучше оставить только интересующие нас колонки, чтобы это легче читалось."
   ]
  },
  {
   "cell_type": "code",
   "execution_count": 220,
   "metadata": {},
   "outputs": [
    {
     "data": {
      "text/html": [
       "<div>\n",
       "<style scoped>\n",
       "    .dataframe tbody tr th:only-of-type {\n",
       "        vertical-align: middle;\n",
       "    }\n",
       "\n",
       "    .dataframe tbody tr th {\n",
       "        vertical-align: top;\n",
       "    }\n",
       "\n",
       "    .dataframe thead th {\n",
       "        text-align: right;\n",
       "    }\n",
       "</style>\n",
       "<table border=\"1\" class=\"dataframe\">\n",
       "  <thead>\n",
       "    <tr style=\"text-align: right;\">\n",
       "      <th></th>\n",
       "      <th>code_presentation</th>\n",
       "      <th>completeness</th>\n",
       "    </tr>\n",
       "  </thead>\n",
       "  <tbody>\n",
       "    <tr>\n",
       "      <th>0</th>\n",
       "      <td>2013B</td>\n",
       "      <td>84</td>\n",
       "    </tr>\n",
       "    <tr>\n",
       "      <th>3</th>\n",
       "      <td>2014J</td>\n",
       "      <td>88</td>\n",
       "    </tr>\n",
       "    <tr>\n",
       "      <th>2</th>\n",
       "      <td>2014B</td>\n",
       "      <td>90</td>\n",
       "    </tr>\n",
       "    <tr>\n",
       "      <th>1</th>\n",
       "      <td>2013J</td>\n",
       "      <td>91</td>\n",
       "    </tr>\n",
       "  </tbody>\n",
       "</table>\n",
       "</div>"
      ],
      "text/plain": [
       "  code_presentation  completeness\n",
       "0             2013B            84\n",
       "3             2014J            88\n",
       "2             2014B            90\n",
       "1             2013J            91"
      ]
     },
     "execution_count": 220,
     "metadata": {},
     "output_type": "execute_result"
    }
   ],
   "source": [
    "exams_success = df_assessements.merge(df_student_assessement, on=['id_assessment']) \\\n",
    "                .query('assessment_type == \"Exam\" & score >= 40') \\\n",
    "                .groupby('code_presentation', as_index=False) \\\n",
    "                .agg({'score': 'count'}) \\\n",
    "                .rename(columns={'score': 'success'})\n",
    "\n",
    "\n",
    "exams_all = df_assessements.merge(df_student_assessement, on=['id_assessment']) \\\n",
    "                .query('assessment_type == \"Exam\"') \\\n",
    "                .groupby('code_presentation', as_index=False) \\\n",
    "                .agg({'score': 'count'}) \\\n",
    "                .rename(columns={'score': 'all'})\n",
    "\n",
    "\n",
    "success_to_all = exams_success.merge(exams_all, on='code_presentation')\n",
    "success_to_all['completeness'] = round(success_to_all['success'] / success_to_all['all'], 2).mul(100) \\\n",
    "                                            .astype(int)\n",
    "\n",
    "\n",
    "completeness = success_to_all[['code_presentation', 'completeness']] \\\n",
    "                                    .sort_values('completeness')\n",
    "completeness"
   ]
  },
  {
   "cell_type": "markdown",
   "metadata": {},
   "source": [
    "Считаем среднее время сдачи. Не забываем, что нас <u>интересуют успешные сдачи экзаменов</u>."
   ]
  },
  {
   "cell_type": "code",
   "execution_count": 221,
   "metadata": {},
   "outputs": [
    {
     "data": {
      "text/html": [
       "<div>\n",
       "<style scoped>\n",
       "    .dataframe tbody tr th:only-of-type {\n",
       "        vertical-align: middle;\n",
       "    }\n",
       "\n",
       "    .dataframe tbody tr th {\n",
       "        vertical-align: top;\n",
       "    }\n",
       "\n",
       "    .dataframe thead th {\n",
       "        text-align: right;\n",
       "    }\n",
       "</style>\n",
       "<table border=\"1\" class=\"dataframe\">\n",
       "  <thead>\n",
       "    <tr style=\"text-align: right;\">\n",
       "      <th></th>\n",
       "      <th>code_presentation</th>\n",
       "      <th>avg_submission</th>\n",
       "    </tr>\n",
       "  </thead>\n",
       "  <tbody>\n",
       "    <tr>\n",
       "      <th>3</th>\n",
       "      <td>2014J</td>\n",
       "      <td>244</td>\n",
       "    </tr>\n",
       "    <tr>\n",
       "      <th>1</th>\n",
       "      <td>2013J</td>\n",
       "      <td>240</td>\n",
       "    </tr>\n",
       "    <tr>\n",
       "      <th>2</th>\n",
       "      <td>2014B</td>\n",
       "      <td>233</td>\n",
       "    </tr>\n",
       "    <tr>\n",
       "      <th>0</th>\n",
       "      <td>2013B</td>\n",
       "      <td>230</td>\n",
       "    </tr>\n",
       "  </tbody>\n",
       "</table>\n",
       "</div>"
      ],
      "text/plain": [
       "  code_presentation  avg_submission\n",
       "3             2014J             244\n",
       "1             2013J             240\n",
       "2             2014B             233\n",
       "0             2013B             230"
      ]
     },
     "execution_count": 221,
     "metadata": {},
     "output_type": "execute_result"
    }
   ],
   "source": [
    "df_big = df_student_assessement.merge(df_assessements, on='id_assessment')\n",
    "\n",
    "\n",
    "avg_submission = df_big.query('assessment_type == \"Exam\" and score >= 40 ') \\\n",
    "    .groupby(['code_presentation'], as_index=False) \\\n",
    "    .agg({'date_submitted': 'mean'}).round(0) \\\n",
    "    .rename(columns={'date_submitted':'avg_submission'}) \\\n",
    "    .sort_values('avg_submission', ascending=False) \\\n",
    "    .head()\n",
    "\n",
    "avg_submission['avg_submission'] = avg_submission['avg_submission'].astype(int)\n",
    "avg_submission"
   ]
  },
  {
   "cell_type": "markdown",
   "metadata": {},
   "source": [
    "Остлось только объединить получившиеся таблицы:"
   ]
  },
  {
   "cell_type": "code",
   "execution_count": 222,
   "metadata": {},
   "outputs": [
    {
     "data": {
      "text/html": [
       "<div>\n",
       "<style scoped>\n",
       "    .dataframe tbody tr th:only-of-type {\n",
       "        vertical-align: middle;\n",
       "    }\n",
       "\n",
       "    .dataframe tbody tr th {\n",
       "        vertical-align: top;\n",
       "    }\n",
       "\n",
       "    .dataframe thead th {\n",
       "        text-align: right;\n",
       "    }\n",
       "</style>\n",
       "<table border=\"1\" class=\"dataframe\">\n",
       "  <thead>\n",
       "    <tr style=\"text-align: right;\">\n",
       "      <th></th>\n",
       "      <th>code_presentation</th>\n",
       "      <th>completeness</th>\n",
       "      <th>avg_submission</th>\n",
       "    </tr>\n",
       "  </thead>\n",
       "  <tbody>\n",
       "    <tr>\n",
       "      <th>0</th>\n",
       "      <td>2013B</td>\n",
       "      <td>84</td>\n",
       "      <td>230</td>\n",
       "    </tr>\n",
       "    <tr>\n",
       "      <th>1</th>\n",
       "      <td>2014J</td>\n",
       "      <td>88</td>\n",
       "      <td>244</td>\n",
       "    </tr>\n",
       "    <tr>\n",
       "      <th>2</th>\n",
       "      <td>2014B</td>\n",
       "      <td>90</td>\n",
       "      <td>233</td>\n",
       "    </tr>\n",
       "    <tr>\n",
       "      <th>3</th>\n",
       "      <td>2013J</td>\n",
       "      <td>91</td>\n",
       "      <td>240</td>\n",
       "    </tr>\n",
       "  </tbody>\n",
       "</table>\n",
       "</div>"
      ],
      "text/plain": [
       "  code_presentation  completeness  avg_submission\n",
       "0             2013B            84             230\n",
       "1             2014J            88             244\n",
       "2             2014B            90             233\n",
       "3             2013J            91             240"
      ]
     },
     "execution_count": 222,
     "metadata": {},
     "output_type": "execute_result"
    }
   ],
   "source": [
    "worst_semester = completeness.merge(avg_submission, on='code_presentation')\n",
    "worst_semester"
   ]
  },
  {
   "cell_type": "markdown",
   "metadata": {},
   "source": [
    "Можно также реализовать код выше в виде функции. Переданный аргумент - первая таблица, которую мы объединяем (в данном случае - *df_assessments*)."
   ]
  },
  {
   "cell_type": "code",
   "execution_count": 245,
   "metadata": {},
   "outputs": [],
   "source": [
    "def worst_semesters(df):\n",
    "    \n",
    "    exams_success = df.merge(df_student_assessement, on=['id_assessment']) \\\n",
    "                .query('assessment_type == \"Exam\" & score >= 40') \\\n",
    "                .groupby('code_presentation', as_index=False) \\\n",
    "                .agg({'score': 'count'}) \\\n",
    "                .rename(columns={'score': 'success'})\n",
    "\n",
    "\n",
    "    exams_all = df.merge(df_student_assessement, on=['id_assessment']) \\\n",
    "                .query('assessment_type == \"Exam\"') \\\n",
    "                .groupby('code_presentation', as_index=False) \\\n",
    "                .agg({'score': 'count'}) \\\n",
    "                .rename(columns={'score': 'all'})\n",
    "\n",
    "\n",
    "    success_to_all = exams_success.merge(exams_all, on='code_presentation')\n",
    "    success_to_all['completeness'] = round(success_to_all['success'] / success_to_all['all'], 2) \\\n",
    "                                    .mul(100).astype(int)\n",
    "\n",
    "\n",
    "    completeness = success_to_all[['code_presentation', 'completeness']] \\\n",
    "                                    .sort_values('completeness')\n",
    "    \n",
    "    \n",
    "    df_big = df_student_assessement.merge(df_assessements, on='id_assessment')\n",
    "\n",
    "\n",
    "    avg_submission = df_big.query('assessment_type == \"Exam\" and score >= 40 ') \\\n",
    "    .groupby(['code_presentation'], as_index=False) \\\n",
    "    .agg({'date_submitted': 'mean'}).round(0) \\\n",
    "    .rename(columns={'date_submitted':'avg_submission'}) \\\n",
    "    .sort_values('avg_submission', ascending=False) \\\n",
    "    .head()\n",
    "\n",
    "    avg_submission['avg_submission'] = avg_submission['avg_submission'].astype(int)\n",
    "    \n",
    "    worst_semester = completeness.merge(avg_submission, on='code_presentation')\n",
    "    \n",
    "    return worst_semester"
   ]
  },
  {
   "cell_type": "code",
   "execution_count": 246,
   "metadata": {},
   "outputs": [
    {
     "data": {
      "text/html": [
       "<div>\n",
       "<style scoped>\n",
       "    .dataframe tbody tr th:only-of-type {\n",
       "        vertical-align: middle;\n",
       "    }\n",
       "\n",
       "    .dataframe tbody tr th {\n",
       "        vertical-align: top;\n",
       "    }\n",
       "\n",
       "    .dataframe thead th {\n",
       "        text-align: right;\n",
       "    }\n",
       "</style>\n",
       "<table border=\"1\" class=\"dataframe\">\n",
       "  <thead>\n",
       "    <tr style=\"text-align: right;\">\n",
       "      <th></th>\n",
       "      <th>code_presentation</th>\n",
       "      <th>completeness</th>\n",
       "      <th>avg_submission</th>\n",
       "    </tr>\n",
       "  </thead>\n",
       "  <tbody>\n",
       "    <tr>\n",
       "      <th>0</th>\n",
       "      <td>2013B</td>\n",
       "      <td>84</td>\n",
       "      <td>230</td>\n",
       "    </tr>\n",
       "    <tr>\n",
       "      <th>1</th>\n",
       "      <td>2014J</td>\n",
       "      <td>88</td>\n",
       "      <td>244</td>\n",
       "    </tr>\n",
       "    <tr>\n",
       "      <th>2</th>\n",
       "      <td>2014B</td>\n",
       "      <td>90</td>\n",
       "      <td>233</td>\n",
       "    </tr>\n",
       "    <tr>\n",
       "      <th>3</th>\n",
       "      <td>2013J</td>\n",
       "      <td>91</td>\n",
       "      <td>240</td>\n",
       "    </tr>\n",
       "  </tbody>\n",
       "</table>\n",
       "</div>"
      ],
      "text/plain": [
       "  code_presentation  completeness  avg_submission\n",
       "0             2013B            84             230\n",
       "1             2014J            88             244\n",
       "2             2014B            90             233\n",
       "3             2013J            91             240"
      ]
     },
     "execution_count": 246,
     "metadata": {},
     "output_type": "execute_result"
    }
   ],
   "source": [
    "worst_semesters(df_assessements)"
   ]
  },
  {
   "cell_type": "markdown",
   "metadata": {},
   "source": [
    "---"
   ]
  },
  {
   "cell_type": "markdown",
   "metadata": {},
   "source": [
    "#### 6. Часто для качественного анализа аудитории использую подходы, основанные на сегментации. Используя python, построй адаптированные RFM-кластеры студентов, чтобы качественно оценить свою аудиторию. В адаптированной кластеризации можешь выбрать следующие метрики: \n",
    "- R - среднее время сдачи одного экзамена, \n",
    "- F - завершаемость курсов, \n",
    "- M - среднее количество баллов, получаемое за экзамен. \n",
    "\n",
    "#### Подробно опиши, как ты создавал кластеры. Для каждого RFM-сегмента построй границы метрик recency, frequency и monetary для интерпретации этих кластеров. Пример такого описания: RFM-сегмент 132 (recency=1, frequency=3, monetary=2) имеет границы метрик recency от 130 до 500 дней, frequency от 0.1 до 0.5, monetary от 55 до 72 баллов."
   ]
  },
  {
   "cell_type": "markdown",
   "metadata": {},
   "source": [
    "---\n",
    "Внутри каждого кластера будет 3 группы, где 1 - \"хороший\" показатель (например, высокий средний балл), 2 - \"средний\" и 3 - \"плохой\". В качестве границ возьмём следующие значения:\n",
    "\n",
    "- нижняя граница - среднее минус стандартное отклонение; \n",
    "- верхняя граница - среднее плюс стандартное отклонение; \n",
    "- средняя граница - всё, что между."
   ]
  },
  {
   "cell_type": "markdown",
   "metadata": {},
   "source": [
    "---\n",
    "Сначала находим необходимые метрики в привязки к студентам.\n",
    "\n",
    "Завершаемость курсов для студента =\n",
    "*кол-во законченных курсов / кол-во начатых курсов*. \n",
    "\n",
    "Если курс окончен, то date_ungeristration = NaN, поэтому нам небходимо сделать <u>обратную</u> операцию:\n",
    "\n",
    "*1 - кол-во <b>НЕ</b>законченных курсов / кол-во начатых курсов*"
   ]
  },
  {
   "cell_type": "code",
   "execution_count": 247,
   "metadata": {},
   "outputs": [],
   "source": [
    "df_exam = df_big.query('assessment_type == \"Exam\"')\n",
    "\n",
    "\n",
    "df_avg_date = df_exam.groupby(['id_student'], as_index=False) \\\n",
    "    .agg({'date_submitted':'mean'}) \\\n",
    "    .rename(columns={'date_submitted': 'avg_date'})\n",
    "\n",
    "\n",
    "df_avg_score = df_exam.groupby(['id_student'], as_index=False) \\\n",
    "    .agg({'score':'mean'}) \\\n",
    "    .rename(columns={'score': 'avg_score'})\n",
    "\n",
    "\n",
    "df_completeness = df_exam.merge(df_student_registration, on='id_student').groupby('id_student', as_index=False) \\\n",
    "                        .agg({'date_registration': 'count', 'date_unregistration': 'count'}) \\\n",
    "\n",
    "\n",
    "df_completeness['completeness'] = np.where(df_completeness['date_unregistration'] == 0, 100, \\\n",
    "        (1 - df_completeness['date_unregistration'] / df_completeness['date_registration']) * 100)"
   ]
  },
  {
   "cell_type": "markdown",
   "metadata": {},
   "source": [
    "Объединим все таблицы в одну по *id_student*."
   ]
  },
  {
   "cell_type": "code",
   "execution_count": 248,
   "metadata": {},
   "outputs": [
    {
     "data": {
      "text/html": [
       "<div>\n",
       "<style scoped>\n",
       "    .dataframe tbody tr th:only-of-type {\n",
       "        vertical-align: middle;\n",
       "    }\n",
       "\n",
       "    .dataframe tbody tr th {\n",
       "        vertical-align: top;\n",
       "    }\n",
       "\n",
       "    .dataframe thead th {\n",
       "        text-align: right;\n",
       "    }\n",
       "</style>\n",
       "<table border=\"1\" class=\"dataframe\">\n",
       "  <thead>\n",
       "    <tr style=\"text-align: right;\">\n",
       "      <th></th>\n",
       "      <th>id_student</th>\n",
       "      <th>avg_date</th>\n",
       "      <th>completeness</th>\n",
       "      <th>avg_score</th>\n",
       "    </tr>\n",
       "  </thead>\n",
       "  <tbody>\n",
       "    <tr>\n",
       "      <th>0</th>\n",
       "      <td>23698</td>\n",
       "      <td>243.0</td>\n",
       "      <td>100.0</td>\n",
       "      <td>80.0</td>\n",
       "    </tr>\n",
       "    <tr>\n",
       "      <th>1</th>\n",
       "      <td>24213</td>\n",
       "      <td>236.0</td>\n",
       "      <td>50.0</td>\n",
       "      <td>58.0</td>\n",
       "    </tr>\n",
       "    <tr>\n",
       "      <th>2</th>\n",
       "      <td>27116</td>\n",
       "      <td>243.0</td>\n",
       "      <td>100.0</td>\n",
       "      <td>96.0</td>\n",
       "    </tr>\n",
       "    <tr>\n",
       "      <th>3</th>\n",
       "      <td>28046</td>\n",
       "      <td>237.0</td>\n",
       "      <td>100.0</td>\n",
       "      <td>40.0</td>\n",
       "    </tr>\n",
       "    <tr>\n",
       "      <th>4</th>\n",
       "      <td>28787</td>\n",
       "      <td>243.0</td>\n",
       "      <td>100.0</td>\n",
       "      <td>44.0</td>\n",
       "    </tr>\n",
       "  </tbody>\n",
       "</table>\n",
       "</div>"
      ],
      "text/plain": [
       "   id_student  avg_date  completeness  avg_score\n",
       "0       23698     243.0         100.0       80.0\n",
       "1       24213     236.0          50.0       58.0\n",
       "2       27116     243.0         100.0       96.0\n",
       "3       28046     237.0         100.0       40.0\n",
       "4       28787     243.0         100.0       44.0"
      ]
     },
     "execution_count": 248,
     "metadata": {},
     "output_type": "execute_result"
    }
   ],
   "source": [
    "df_rfm = df_avg_date.merge(df_avg_score, on='id_student').merge(df_completeness, on='id_student')\n",
    "df_rfm = df_rfm[['id_student', 'avg_date', 'completeness', 'avg_score']]\n",
    "df_rfm.head()"
   ]
  },
  {
   "cell_type": "markdown",
   "metadata": {},
   "source": [
    "Взглянем на получившиеся данные с точки зрения описательной статистики."
   ]
  },
  {
   "cell_type": "code",
   "execution_count": 250,
   "metadata": {},
   "outputs": [
    {
     "data": {
      "text/html": [
       "<div>\n",
       "<style scoped>\n",
       "    .dataframe tbody tr th:only-of-type {\n",
       "        vertical-align: middle;\n",
       "    }\n",
       "\n",
       "    .dataframe tbody tr th {\n",
       "        vertical-align: top;\n",
       "    }\n",
       "\n",
       "    .dataframe thead th {\n",
       "        text-align: right;\n",
       "    }\n",
       "</style>\n",
       "<table border=\"1\" class=\"dataframe\">\n",
       "  <thead>\n",
       "    <tr style=\"text-align: right;\">\n",
       "      <th></th>\n",
       "      <th>id_student</th>\n",
       "      <th>avg_date</th>\n",
       "      <th>completeness</th>\n",
       "      <th>avg_score</th>\n",
       "    </tr>\n",
       "  </thead>\n",
       "  <tbody>\n",
       "    <tr>\n",
       "      <th>count</th>\n",
       "      <td>4.633000e+03</td>\n",
       "      <td>4633.000000</td>\n",
       "      <td>4633.000000</td>\n",
       "      <td>4633.000000</td>\n",
       "    </tr>\n",
       "    <tr>\n",
       "      <th>mean</th>\n",
       "      <td>7.256904e+05</td>\n",
       "      <td>238.462227</td>\n",
       "      <td>95.954745</td>\n",
       "      <td>65.117958</td>\n",
       "    </tr>\n",
       "    <tr>\n",
       "      <th>std</th>\n",
       "      <td>5.753498e+05</td>\n",
       "      <td>5.653378</td>\n",
       "      <td>13.790635</td>\n",
       "      <td>20.470561</td>\n",
       "    </tr>\n",
       "    <tr>\n",
       "      <th>min</th>\n",
       "      <td>2.369800e+04</td>\n",
       "      <td>229.000000</td>\n",
       "      <td>0.000000</td>\n",
       "      <td>0.000000</td>\n",
       "    </tr>\n",
       "    <tr>\n",
       "      <th>25%</th>\n",
       "      <td>5.011580e+05</td>\n",
       "      <td>234.000000</td>\n",
       "      <td>100.000000</td>\n",
       "      <td>50.000000</td>\n",
       "    </tr>\n",
       "    <tr>\n",
       "      <th>50%</th>\n",
       "      <td>5.884820e+05</td>\n",
       "      <td>241.000000</td>\n",
       "      <td>100.000000</td>\n",
       "      <td>66.000000</td>\n",
       "    </tr>\n",
       "    <tr>\n",
       "      <th>75%</th>\n",
       "      <td>6.463510e+05</td>\n",
       "      <td>243.000000</td>\n",
       "      <td>100.000000</td>\n",
       "      <td>82.000000</td>\n",
       "    </tr>\n",
       "    <tr>\n",
       "      <th>max</th>\n",
       "      <td>2.698251e+06</td>\n",
       "      <td>285.000000</td>\n",
       "      <td>100.000000</td>\n",
       "      <td>100.000000</td>\n",
       "    </tr>\n",
       "  </tbody>\n",
       "</table>\n",
       "</div>"
      ],
      "text/plain": [
       "         id_student     avg_date  completeness    avg_score\n",
       "count  4.633000e+03  4633.000000   4633.000000  4633.000000\n",
       "mean   7.256904e+05   238.462227     95.954745    65.117958\n",
       "std    5.753498e+05     5.653378     13.790635    20.470561\n",
       "min    2.369800e+04   229.000000      0.000000     0.000000\n",
       "25%    5.011580e+05   234.000000    100.000000    50.000000\n",
       "50%    5.884820e+05   241.000000    100.000000    66.000000\n",
       "75%    6.463510e+05   243.000000    100.000000    82.000000\n",
       "max    2.698251e+06   285.000000    100.000000   100.000000"
      ]
     },
     "execution_count": 250,
     "metadata": {},
     "output_type": "execute_result"
    }
   ],
   "source": [
    "df_rfm.describe()"
   ]
  },
  {
   "cell_type": "markdown",
   "metadata": {},
   "source": [
    "Видим, что в <u>completeness</u> (q=0.25) = (q=0.5) = (q=0.75). Также странно, что минимальное значение <u>avg_score</u> = 0.\n",
    "\n",
    "Взглянем на распределение завершаемости и на колонки с нулями:"
   ]
  },
  {
   "cell_type": "code",
   "execution_count": 251,
   "metadata": {},
   "outputs": [
    {
     "data": {
      "text/plain": [
       "100.000000    4255\n",
       "50.000000      304\n",
       "66.666667       45\n",
       "33.333333       25\n",
       "0.000000         3\n",
       "25.000000        1\n",
       "Name: completeness, dtype: int64"
      ]
     },
     "execution_count": 251,
     "metadata": {},
     "output_type": "execute_result"
    }
   ],
   "source": [
    "df_rfm.completeness.value_counts()"
   ]
  },
  {
   "cell_type": "markdown",
   "metadata": {},
   "source": [
    "В данных есть 3 строки без оценки - уберём их.\n",
    "\n",
    "Стопроцентная завершаемость действительно преобладает, но интересно также то, что имеется всего 6 значений, в связи с чем определение границ интервалов должно быть другим. Исходя из своего студенческого опыта, предлагаю следующую градацию:\n",
    "\n",
    "- <b>3</b> = 0%, 25%, 33%\n",
    "- <b>2</b> = 50%, 66%\n",
    "- <b>1</b> = 100%"
   ]
  },
  {
   "cell_type": "code",
   "execution_count": 252,
   "metadata": {},
   "outputs": [
    {
     "data": {
      "text/html": [
       "<div>\n",
       "<style scoped>\n",
       "    .dataframe tbody tr th:only-of-type {\n",
       "        vertical-align: middle;\n",
       "    }\n",
       "\n",
       "    .dataframe tbody tr th {\n",
       "        vertical-align: top;\n",
       "    }\n",
       "\n",
       "    .dataframe thead th {\n",
       "        text-align: right;\n",
       "    }\n",
       "</style>\n",
       "<table border=\"1\" class=\"dataframe\">\n",
       "  <thead>\n",
       "    <tr style=\"text-align: right;\">\n",
       "      <th></th>\n",
       "      <th>id_student</th>\n",
       "      <th>avg_date</th>\n",
       "      <th>completeness</th>\n",
       "      <th>avg_score</th>\n",
       "    </tr>\n",
       "  </thead>\n",
       "  <tbody>\n",
       "    <tr>\n",
       "      <th>75</th>\n",
       "      <td>81351</td>\n",
       "      <td>248.0</td>\n",
       "      <td>100.0</td>\n",
       "      <td>0.0</td>\n",
       "    </tr>\n",
       "    <tr>\n",
       "      <th>137</th>\n",
       "      <td>131152</td>\n",
       "      <td>244.0</td>\n",
       "      <td>100.0</td>\n",
       "      <td>0.0</td>\n",
       "    </tr>\n",
       "    <tr>\n",
       "      <th>1736</th>\n",
       "      <td>556660</td>\n",
       "      <td>235.0</td>\n",
       "      <td>100.0</td>\n",
       "      <td>0.0</td>\n",
       "    </tr>\n",
       "  </tbody>\n",
       "</table>\n",
       "</div>"
      ],
      "text/plain": [
       "      id_student  avg_date  completeness  avg_score\n",
       "75         81351     248.0         100.0        0.0\n",
       "137       131152     244.0         100.0        0.0\n",
       "1736      556660     235.0         100.0        0.0"
      ]
     },
     "execution_count": 252,
     "metadata": {},
     "output_type": "execute_result"
    }
   ],
   "source": [
    "df_rfm.query('avg_score == 0')"
   ]
  },
  {
   "cell_type": "code",
   "execution_count": 253,
   "metadata": {},
   "outputs": [],
   "source": [
    "date_lower_bound = df_rfm.avg_date.mean() - df_rfm.avg_date.std()\n",
    "date_upper_bound = df_rfm.avg_date.mean() + df_rfm.avg_date.std()\n",
    "\n",
    "score_lower_bound = df_rfm.avg_score.mean() - df_rfm.avg_score.std()\n",
    "score_upper_bound = df_rfm.avg_score.mean() + df_rfm.avg_score.std()"
   ]
  },
  {
   "cell_type": "markdown",
   "metadata": {},
   "source": [
    "Создаём колонки и заполняем их по условиям. "
   ]
  },
  {
   "cell_type": "code",
   "execution_count": 254,
   "metadata": {},
   "outputs": [],
   "source": [
    "df_rfm['R'] = np.where(\n",
    "    df_rfm['avg_date'] < date_lower_bound, 1, np.where(\n",
    "    df_rfm['avg_date'] > date_upper_bound, 3, 2)) \n",
    "\n",
    "\n",
    "df_rfm['completeness'] = round(df_rfm['completeness'], 0)\n",
    "df_rfm['F'] = np.where(\n",
    "    (df_rfm['completeness'] == 0) | (df_rfm['completeness'] == 25) | (df_rfm['completeness'] == 33), 3,\n",
    "    np.where((df_rfm['completeness'] == 50) | (df_rfm['completeness'] == 66), 2, 1)) \n",
    "\n",
    "\n",
    "df_rfm['M'] = np.where(\n",
    "    df_rfm['avg_score'] > score_upper_bound, 1, np.where(\n",
    "    df_rfm['avg_score'] < score_lower_bound, 3, 2)) "
   ]
  },
  {
   "cell_type": "code",
   "execution_count": 255,
   "metadata": {},
   "outputs": [
    {
     "data": {
      "text/html": [
       "<div>\n",
       "<style scoped>\n",
       "    .dataframe tbody tr th:only-of-type {\n",
       "        vertical-align: middle;\n",
       "    }\n",
       "\n",
       "    .dataframe tbody tr th {\n",
       "        vertical-align: top;\n",
       "    }\n",
       "\n",
       "    .dataframe thead th {\n",
       "        text-align: right;\n",
       "    }\n",
       "</style>\n",
       "<table border=\"1\" class=\"dataframe\">\n",
       "  <thead>\n",
       "    <tr style=\"text-align: right;\">\n",
       "      <th></th>\n",
       "      <th>id_student</th>\n",
       "      <th>avg_date</th>\n",
       "      <th>completeness</th>\n",
       "      <th>avg_score</th>\n",
       "      <th>R</th>\n",
       "      <th>F</th>\n",
       "      <th>M</th>\n",
       "    </tr>\n",
       "  </thead>\n",
       "  <tbody>\n",
       "    <tr>\n",
       "      <th>0</th>\n",
       "      <td>23698</td>\n",
       "      <td>243.0</td>\n",
       "      <td>100.0</td>\n",
       "      <td>80.0</td>\n",
       "      <td>2</td>\n",
       "      <td>1</td>\n",
       "      <td>2</td>\n",
       "    </tr>\n",
       "    <tr>\n",
       "      <th>1</th>\n",
       "      <td>24213</td>\n",
       "      <td>236.0</td>\n",
       "      <td>50.0</td>\n",
       "      <td>58.0</td>\n",
       "      <td>2</td>\n",
       "      <td>2</td>\n",
       "      <td>2</td>\n",
       "    </tr>\n",
       "    <tr>\n",
       "      <th>2</th>\n",
       "      <td>27116</td>\n",
       "      <td>243.0</td>\n",
       "      <td>100.0</td>\n",
       "      <td>96.0</td>\n",
       "      <td>2</td>\n",
       "      <td>1</td>\n",
       "      <td>1</td>\n",
       "    </tr>\n",
       "    <tr>\n",
       "      <th>3</th>\n",
       "      <td>28046</td>\n",
       "      <td>237.0</td>\n",
       "      <td>100.0</td>\n",
       "      <td>40.0</td>\n",
       "      <td>2</td>\n",
       "      <td>1</td>\n",
       "      <td>3</td>\n",
       "    </tr>\n",
       "    <tr>\n",
       "      <th>4</th>\n",
       "      <td>28787</td>\n",
       "      <td>243.0</td>\n",
       "      <td>100.0</td>\n",
       "      <td>44.0</td>\n",
       "      <td>2</td>\n",
       "      <td>1</td>\n",
       "      <td>3</td>\n",
       "    </tr>\n",
       "  </tbody>\n",
       "</table>\n",
       "</div>"
      ],
      "text/plain": [
       "   id_student  avg_date  completeness  avg_score  R  F  M\n",
       "0       23698     243.0         100.0       80.0  2  1  2\n",
       "1       24213     236.0          50.0       58.0  2  2  2\n",
       "2       27116     243.0         100.0       96.0  2  1  1\n",
       "3       28046     237.0         100.0       40.0  2  1  3\n",
       "4       28787     243.0         100.0       44.0  2  1  3"
      ]
     },
     "execution_count": 255,
     "metadata": {},
     "output_type": "execute_result"
    }
   ],
   "source": [
    "df_rfm.head()"
   ]
  },
  {
   "cell_type": "markdown",
   "metadata": {},
   "source": [
    "Построим распределение значений метрик, чтобы увидеть, какие из значений преобладают и сделать выводы."
   ]
  },
  {
   "cell_type": "code",
   "execution_count": 233,
   "metadata": {},
   "outputs": [
    {
     "name": "stderr",
     "output_type": "stream",
     "text": [
      "/opt/tljh/user/lib/python3.7/site-packages/seaborn/distributions.py:2557: FutureWarning: `distplot` is a deprecated function and will be removed in a future version. Please adapt your code to use either `displot` (a figure-level function with similar flexibility) or `histplot` (an axes-level function for histograms).\n",
      "  warnings.warn(msg, FutureWarning)\n"
     ]
    },
    {
     "data": {
      "image/png": "[encoded data removed]",
      "text/plain": [
       "<Figure size 864x288 with 3 Axes>"
      ]
     },
     "metadata": {},
     "output_type": "display_data"
    }
   ],
   "source": [
    "fig, (ax1, ax2, ax3) = plt.subplots(1, 3, figsize=(12,4))\n",
    "\n",
    "sns.distplot(df_rfm.R, bins=3, kde=False, ax=ax1);\n",
    "ax1.set_xticks(range(1, 4))\n",
    "ax1.set_xticklabels([1, 2, 3])\n",
    "ax1.set(xlabel=None)\n",
    "ax1.set_title('Распределение R (дата сдачи экзамена)', fontsize=11.5, y=1.05, weight='bold');\n",
    "\n",
    "sns.distplot(df_rfm.F, bins=3, kde=False, ax=ax2, color='red');\n",
    "ax2.set_xticks(range(1, 4))\n",
    "ax2.set_xticklabels([1, 2, 3])\n",
    "ax2.set(xlabel=None)\n",
    "ax2.set_title('Распределение F (завершаемость курсов)', fontsize=11.5, y=1.05, weight='bold');\n",
    "\n",
    "sns.distplot(df_rfm.M, bins=3, kde=False, ax=ax3, color='green');\n",
    "ax3.set_xticks(range(1, 4))\n",
    "ax3.set_xticklabels([1, 2, 3])\n",
    "ax3.set(xlabel=None)\n",
    "ax3.set_title('Распределение M (средний балл)', fontsize=11.5, y=1.05, weight='bold');\n",
    "\n",
    "\n",
    "plt.tight_layout()"
   ]
  },
  {
   "cell_type": "markdown",
   "metadata": {},
   "source": [
    "- Начатые курсы завершает подавляющее большинство студентов. \n",
    "- Почти все сдают экзамен вовремя или раньше среднего, но есть совсем небольшая часть тех, кто делает это в последний момент. \n",
    "- Низкий средний балл встречается почти так же часто, как и высокий (около 20%) - на это стоит обратить внимание преподавателям и составителям учебных программ."
   ]
  }
 ],
 "metadata": {
  "kernelspec": {
   "display_name": "Python 3",
   "language": "python",
   "name": "python3"
  },
  "language_info": {
   "codemirror_mode": {
    "name": "ipython",
    "version": 3
   },
   "file_extension": ".py",
   "mimetype": "text/x-python",
   "name": "python",
   "nbconvert_exporter": "python",
   "pygments_lexer": "ipython3",
   "version": "3.7.3"
  }
 },
 "nbformat": 4,
 "nbformat_minor": 4
}
