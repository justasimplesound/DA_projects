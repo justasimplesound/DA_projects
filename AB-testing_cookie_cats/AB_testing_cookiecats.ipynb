{
 "cells": [
  {
   "cell_type": "markdown",
   "metadata": {},
   "source": [
    "![CookieCats](https://tactilegames.com/wp-content/uploads/2018/05/cookie-cats.png)"
   ]
  },
  {
   "cell_type": "markdown",
   "metadata": {},
   "source": [
    "<font size=\"3\"> <b>Ситуация</b> : проход (gate) в открытый мир был передвинут с 30-го уровня на 40-ой. Пользователи были случайным образом определены в группы со старой версией или обновлённой версией игры. </font>"
   ]
  },
  {
   "cell_type": "code",
   "execution_count": 81,
   "metadata": {},
   "outputs": [],
   "source": [
    "import numpy as np\n",
    "import pandas as pd\n",
    "\n",
    "from scipy.stats import norm, mannwhitneyu, chi2_contingency, chi2 \n",
    "import statsmodels.api as sm\n",
    "\n",
    "import matplotlib.pyplot as plt\n",
    "import seaborn as sns\n",
    "\n",
    "from tqdm.auto import tqdm"
   ]
  },
  {
   "cell_type": "code",
   "execution_count": 82,
   "metadata": {},
   "outputs": [],
   "source": [
    "sns.set_style(\"darkgrid\")"
   ]
  },
  {
   "cell_type": "code",
   "execution_count": 83,
   "metadata": {},
   "outputs": [
    {
     "data": {
      "text/html": [
       "<div>\n",
       "<style scoped>\n",
       "    .dataframe tbody tr th:only-of-type {\n",
       "        vertical-align: middle;\n",
       "    }\n",
       "\n",
       "    .dataframe tbody tr th {\n",
       "        vertical-align: top;\n",
       "    }\n",
       "\n",
       "    .dataframe thead th {\n",
       "        text-align: right;\n",
       "    }\n",
       "</style>\n",
       "<table border=\"1\" class=\"dataframe\">\n",
       "  <thead>\n",
       "    <tr style=\"text-align: right;\">\n",
       "      <th></th>\n",
       "      <th>userid</th>\n",
       "      <th>version</th>\n",
       "      <th>sum_gamerounds</th>\n",
       "      <th>retention_1</th>\n",
       "      <th>retention_7</th>\n",
       "    </tr>\n",
       "  </thead>\n",
       "  <tbody>\n",
       "    <tr>\n",
       "      <th>0</th>\n",
       "      <td>116</td>\n",
       "      <td>gate_30</td>\n",
       "      <td>3</td>\n",
       "      <td>False</td>\n",
       "      <td>False</td>\n",
       "    </tr>\n",
       "    <tr>\n",
       "      <th>1</th>\n",
       "      <td>337</td>\n",
       "      <td>gate_30</td>\n",
       "      <td>38</td>\n",
       "      <td>True</td>\n",
       "      <td>False</td>\n",
       "    </tr>\n",
       "    <tr>\n",
       "      <th>2</th>\n",
       "      <td>377</td>\n",
       "      <td>gate_40</td>\n",
       "      <td>165</td>\n",
       "      <td>True</td>\n",
       "      <td>False</td>\n",
       "    </tr>\n",
       "    <tr>\n",
       "      <th>3</th>\n",
       "      <td>483</td>\n",
       "      <td>gate_40</td>\n",
       "      <td>1</td>\n",
       "      <td>False</td>\n",
       "      <td>False</td>\n",
       "    </tr>\n",
       "    <tr>\n",
       "      <th>4</th>\n",
       "      <td>488</td>\n",
       "      <td>gate_40</td>\n",
       "      <td>179</td>\n",
       "      <td>True</td>\n",
       "      <td>True</td>\n",
       "    </tr>\n",
       "  </tbody>\n",
       "</table>\n",
       "</div>"
      ],
      "text/plain": [
       "   userid  version  sum_gamerounds  retention_1  retention_7\n",
       "0     116  gate_30               3        False        False\n",
       "1     337  gate_30              38         True        False\n",
       "2     377  gate_40             165         True        False\n",
       "3     483  gate_40               1        False        False\n",
       "4     488  gate_40             179         True         True"
      ]
     },
     "execution_count": 83,
     "metadata": {},
     "output_type": "execute_result"
    }
   ],
   "source": [
    "df = pd.read_csv('cookie_cats.csv')\n",
    "df.head()"
   ]
  },
  {
   "cell_type": "markdown",
   "metadata": {},
   "source": [
    "### Описание данных\n",
    "\n",
    "- `userid` - идентификационный номер пользователя\n",
    "- `version` - версия игры, которая была дана пользователю\n",
    "- `sum_gamerounds` - сумма сыгранных раундов\n",
    "- `retention_1` - Пришёл ли игрок обратно после установки и сыграл хотя бы 1 день? (True - да, False - нет)\n",
    "- `retention_7` - Пришёл ли игрок обратно после установки и сыграл 7 дней подряд? (True - да, False - нет)\n",
    "\n"
   ]
  },
  {
   "cell_type": "code",
   "execution_count": 84,
   "metadata": {},
   "outputs": [
    {
     "data": {
      "text/plain": [
       "(90189, 5)"
      ]
     },
     "execution_count": 84,
     "metadata": {},
     "output_type": "execute_result"
    }
   ],
   "source": [
    "df.shape"
   ]
  },
  {
   "cell_type": "code",
   "execution_count": 85,
   "metadata": {},
   "outputs": [
    {
     "name": "stdout",
     "output_type": "stream",
     "text": [
      "<class 'pandas.core.frame.DataFrame'>\n",
      "RangeIndex: 90189 entries, 0 to 90188\n",
      "Data columns (total 5 columns):\n",
      " #   Column          Non-Null Count  Dtype \n",
      "---  ------          --------------  ----- \n",
      " 0   userid          90189 non-null  int64 \n",
      " 1   version         90189 non-null  object\n",
      " 2   sum_gamerounds  90189 non-null  int64 \n",
      " 3   retention_1     90189 non-null  bool  \n",
      " 4   retention_7     90189 non-null  bool  \n",
      "dtypes: bool(2), int64(2), object(1)\n",
      "memory usage: 2.2+ MB\n"
     ]
    }
   ],
   "source": [
    "df.info()"
   ]
  },
  {
   "cell_type": "code",
   "execution_count": 86,
   "metadata": {},
   "outputs": [
    {
     "data": {
      "text/plain": [
       "array(['gate_30', 'gate_40'], dtype=object)"
      ]
     },
     "execution_count": 86,
     "metadata": {},
     "output_type": "execute_result"
    }
   ],
   "source": [
    "df.version.unique()"
   ]
  },
  {
   "cell_type": "code",
   "execution_count": 87,
   "metadata": {},
   "outputs": [
    {
     "data": {
      "text/plain": [
       "0"
      ]
     },
     "execution_count": 87,
     "metadata": {},
     "output_type": "execute_result"
    }
   ],
   "source": [
    "df.userid.duplicated().sum()"
   ]
  },
  {
   "cell_type": "code",
   "execution_count": 88,
   "metadata": {},
   "outputs": [
    {
     "data": {
      "text/plain": [
       "userid            0\n",
       "version           0\n",
       "sum_gamerounds    0\n",
       "retention_1       0\n",
       "retention_7       0\n",
       "dtype: int64"
      ]
     },
     "execution_count": 88,
     "metadata": {},
     "output_type": "execute_result"
    }
   ],
   "source": [
    "df.isna().sum()"
   ]
  },
  {
   "cell_type": "markdown",
   "metadata": {},
   "source": [
    "- Две группы;\n",
    "- Типы данных корректные;\n",
    "- Нет дубликатов;\n",
    "- Нет NaN'ов\n",
    "\n",
    "Оставим только необходимые колонки, переименуем одну из них, а названия групп заменим на 'A' и 'B'."
   ]
  },
  {
   "cell_type": "code",
   "execution_count": 89,
   "metadata": {},
   "outputs": [],
   "source": [
    "df = df.rename(columns={'version': 'group'})\n",
    "df['group'] = df['group'].replace({'gate_30': 'A', 'gate_40': 'B'})\n",
    "df = df[['group', 'sum_gamerounds', 'retention_1', 'retention_7']]"
   ]
  },
  {
   "cell_type": "markdown",
   "metadata": {},
   "source": [
    "#### В данном анализе мы посмотрим, изменились ли значимо имеющиеся показатели (`sum_gamerounds`, `retention_1`, `retention_7`) и сделаем вывод, стоит ли выкатывать обновление на всю аудиторию."
   ]
  },
  {
   "cell_type": "markdown",
   "metadata": {},
   "source": [
    "Рассмотрим значения колонки `sum_gamerounds`. Проверим данные на наличие выбросов."
   ]
  },
  {
   "cell_type": "code",
   "execution_count": 90,
   "metadata": {},
   "outputs": [
    {
     "data": {
      "text/plain": [
       "57702    49854\n",
       "7912      2961\n",
       "29417     2640\n",
       "43671     2438\n",
       "48188     2294\n",
       "46344     2251\n",
       "87007     2156\n",
       "36933     2124\n",
       "88328     2063\n",
       "6536      2015\n",
       "Name: sum_gamerounds, dtype: int64"
      ]
     },
     "execution_count": 90,
     "metadata": {},
     "output_type": "execute_result"
    }
   ],
   "source": [
    "df.sum_gamerounds.sort_values(ascending=False).head(10)"
   ]
  },
  {
   "cell_type": "markdown",
   "metadata": {},
   "source": [
    "Имеется один значительный выброс (49854), который может впоследствии повлиять на результат. Уберём его."
   ]
  },
  {
   "cell_type": "code",
   "execution_count": 91,
   "metadata": {},
   "outputs": [
    {
     "data": {
      "text/plain": [
       "1       5538\n",
       "2       4606\n",
       "0       3994\n",
       "3       3958\n",
       "4       3629\n",
       "        ... \n",
       "1058       1\n",
       "611        1\n",
       "739        1\n",
       "803        1\n",
       "1215       1\n",
       "Name: sum_gamerounds, Length: 941, dtype: int64"
      ]
     },
     "execution_count": 91,
     "metadata": {},
     "output_type": "execute_result"
    }
   ],
   "source": [
    "df = df[df.sum_gamerounds <= 2961]\n",
    "\n",
    "df.sum_gamerounds.value_counts()"
   ]
  },
  {
   "cell_type": "markdown",
   "metadata": {},
   "source": [
    "---\n",
    "3994 человека скачали игру, но ни разу не запустили её. Почему так может быть?\n",
    "\n",
    "- игра обновилась автоматически, но пользователи давно не заходили в игру;\n",
    "- крашится при запуске;\n",
    "- хотели попробовать, но не понравился интерфейс;\n",
    "- игра была предустановлена на телефон.\n",
    "\n",
    "Этих пользователей также можно убрать из наших данных, поскольку они не пользовались ни одной из версий. Посмотрим на то, как распределены данные в наших группах.\n",
    "\n",
    "---"
   ]
  },
  {
   "cell_type": "code",
   "execution_count": 92,
   "metadata": {},
   "outputs": [],
   "source": [
    "df = df[df.sum_gamerounds != 0]"
   ]
  },
  {
   "cell_type": "code",
   "execution_count": 93,
   "metadata": {},
   "outputs": [
    {
     "data": {
      "image/png": "[encoded data removed]",
      "text/plain": [
       "<Figure size 720x432 with 1 Axes>"
      ]
     },
     "metadata": {},
     "output_type": "display_data"
    }
   ],
   "source": [
    "plt.figure(figsize=(10,6))\n",
    "sns.histplot(data = df, x = df.sum_gamerounds, hue='group', bins=100)\n",
    "plt.title('Распределение раундов по группам', fontsize=16, fontweight='bold', y=1.05);\n",
    "plt.xlabel('Сумма сыгранных раундов', fontsize=12);\n",
    "plt.ylabel('Count', fontsize=12);"
   ]
  },
  {
   "cell_type": "markdown",
   "metadata": {},
   "source": [
    "Чтобы рассмотреть график чуть ближе, уберем часть верхней границы (q=0.99), оставив часть только ниже этого перцентиля."
   ]
  },
  {
   "cell_type": "code",
   "execution_count": 94,
   "metadata": {},
   "outputs": [
    {
     "data": {
      "image/png": "[encoded data removed]",
      "text/plain": [
       "<Figure size 720x432 with 1 Axes>"
      ]
     },
     "metadata": {},
     "output_type": "display_data"
    }
   ],
   "source": [
    "q = df.sum_gamerounds.quantile(.99)\n",
    "\n",
    "plt.figure(figsize=(10,6))\n",
    "sns.histplot(data = df[df.sum_gamerounds < q], x = df.sum_gamerounds, hue='group', bins=100)\n",
    "plt.title('Распределение раундов по группам', fontsize=16, fontweight='bold', y=1.05);\n",
    "plt.xlabel('Сумма сыгранных раундов', fontsize=12);\n",
    "plt.ylabel('Count', fontsize=12);"
   ]
  },
  {
   "cell_type": "markdown",
   "metadata": {},
   "source": [
    "Данное распределение ожидаемо далеко от нормального, больше напоминая логарифмическое - количество игроков уменьшается с каждым сыгранным раундом. \n",
    "\n",
    "Кроме того, в мобильных играх часто действует система платежей, значительно ускоряющая прогресс, но немногие готовы платить за игру.\n",
    "\n",
    "Это подверждается описательной статистикой ниже - 50% всех пользователей сыграли меньше 18 игр."
   ]
  },
  {
   "cell_type": "code",
   "execution_count": 95,
   "metadata": {},
   "outputs": [
    {
     "data": {
      "text/html": [
       "<div>\n",
       "<style scoped>\n",
       "    .dataframe tbody tr th:only-of-type {\n",
       "        vertical-align: middle;\n",
       "    }\n",
       "\n",
       "    .dataframe tbody tr th {\n",
       "        vertical-align: top;\n",
       "    }\n",
       "\n",
       "    .dataframe thead th {\n",
       "        text-align: right;\n",
       "    }\n",
       "</style>\n",
       "<table border=\"1\" class=\"dataframe\">\n",
       "  <thead>\n",
       "    <tr style=\"text-align: right;\">\n",
       "      <th></th>\n",
       "      <th>sum_gamerounds</th>\n",
       "    </tr>\n",
       "  </thead>\n",
       "  <tbody>\n",
       "    <tr>\n",
       "      <th>count</th>\n",
       "      <td>86194.000000</td>\n",
       "    </tr>\n",
       "    <tr>\n",
       "      <th>mean</th>\n",
       "      <td>53.698297</td>\n",
       "    </tr>\n",
       "    <tr>\n",
       "      <th>std</th>\n",
       "      <td>104.425174</td>\n",
       "    </tr>\n",
       "    <tr>\n",
       "      <th>min</th>\n",
       "      <td>1.000000</td>\n",
       "    </tr>\n",
       "    <tr>\n",
       "      <th>25%</th>\n",
       "      <td>6.000000</td>\n",
       "    </tr>\n",
       "    <tr>\n",
       "      <th>50%</th>\n",
       "      <td>18.000000</td>\n",
       "    </tr>\n",
       "    <tr>\n",
       "      <th>75%</th>\n",
       "      <td>54.000000</td>\n",
       "    </tr>\n",
       "    <tr>\n",
       "      <th>max</th>\n",
       "      <td>2961.000000</td>\n",
       "    </tr>\n",
       "  </tbody>\n",
       "</table>\n",
       "</div>"
      ],
      "text/plain": [
       "       sum_gamerounds\n",
       "count    86194.000000\n",
       "mean        53.698297\n",
       "std        104.425174\n",
       "min          1.000000\n",
       "25%          6.000000\n",
       "50%         18.000000\n",
       "75%         54.000000\n",
       "max       2961.000000"
      ]
     },
     "execution_count": 95,
     "metadata": {},
     "output_type": "execute_result"
    }
   ],
   "source": [
    "df.describe()"
   ]
  },
  {
   "cell_type": "markdown",
   "metadata": {},
   "source": [
    "Проверим размеры получившихся групп и их среднее медиану и стандартное отклонение."
   ]
  },
  {
   "cell_type": "code",
   "execution_count": 96,
   "metadata": {},
   "outputs": [
    {
     "name": "stdout",
     "output_type": "stream",
     "text": [
      "42762\n",
      "43432\n"
     ]
    }
   ],
   "source": [
    "print(len(df[df.group == 'A']))\n",
    "print(len(df[df.group == 'B']))\n",
    "\n",
    "# Размеры групп одинаковые"
   ]
  },
  {
   "cell_type": "code",
   "execution_count": 97,
   "metadata": {},
   "outputs": [
    {
     "data": {
      "text/html": [
       "<div>\n",
       "<style scoped>\n",
       "    .dataframe tbody tr th:only-of-type {\n",
       "        vertical-align: middle;\n",
       "    }\n",
       "\n",
       "    .dataframe tbody tr th {\n",
       "        vertical-align: top;\n",
       "    }\n",
       "\n",
       "    .dataframe thead th {\n",
       "        text-align: right;\n",
       "    }\n",
       "</style>\n",
       "<table border=\"1\" class=\"dataframe\">\n",
       "  <thead>\n",
       "    <tr style=\"text-align: right;\">\n",
       "      <th></th>\n",
       "      <th>group</th>\n",
       "      <th>mean</th>\n",
       "      <th>median</th>\n",
       "      <th>std</th>\n",
       "    </tr>\n",
       "  </thead>\n",
       "  <tbody>\n",
       "    <tr>\n",
       "      <th>0</th>\n",
       "      <td>A</td>\n",
       "      <td>53.667766</td>\n",
       "      <td>18</td>\n",
       "      <td>103.743691</td>\n",
       "    </tr>\n",
       "    <tr>\n",
       "      <th>1</th>\n",
       "      <td>B</td>\n",
       "      <td>53.728357</td>\n",
       "      <td>18</td>\n",
       "      <td>105.093012</td>\n",
       "    </tr>\n",
       "  </tbody>\n",
       "</table>\n",
       "</div>"
      ],
      "text/plain": [
       "  group       mean  median         std\n",
       "0     A  53.667766      18  103.743691\n",
       "1     B  53.728357      18  105.093012"
      ]
     },
     "execution_count": 97,
     "metadata": {},
     "output_type": "execute_result"
    }
   ],
   "source": [
    "df.groupby('group', as_index=False).agg( \\\n",
    "                        mean = ('sum_gamerounds', 'mean'), \\\n",
    "                        median = ('sum_gamerounds', 'median'),\n",
    "                        std = ('sum_gamerounds', 'std'))"
   ]
  },
  {
   "cell_type": "markdown",
   "metadata": {},
   "source": [
    "Среднее и стандартное отклонение тестовой группы чуть выше, а медианы равны. Насколько эта разница существенна? \n",
    "Взглянем на нормальность распределения данных в группах и решим, какой из критериев применять.\n",
    "\n",
    "- *$H_0$* - средние значения кол-ва сыгранных раундов контрольной и тестовой групп статзначимо не различаются.\n",
    "\n",
    "- *$H_1$* - значимые различия между средними значениями групп имеются. "
   ]
  },
  {
   "cell_type": "code",
   "execution_count": 98,
   "metadata": {},
   "outputs": [],
   "source": [
    "control_group = df[df.group == 'A'].sum_gamerounds\n",
    "test_group = df[df.group == 'B'].sum_gamerounds"
   ]
  },
  {
   "cell_type": "code",
   "execution_count": 99,
   "metadata": {},
   "outputs": [
    {
     "data": {
      "image/png": "[encoded data removed]",
      "text/plain": [
       "<Figure size 864x288 with 2 Axes>"
      ]
     },
     "metadata": {},
     "output_type": "display_data"
    }
   ],
   "source": [
    "fig, (ax1, ax2) = plt.subplots(1, 2, figsize=(12,4))\n",
    "\n",
    "sm.qqplot(control_group, line='45', ax=ax1);\n",
    "ax1.set_title('QQ-plot для контрольной группы', fontsize=14, y=1.05);\n",
    "ax1.set(xlabel=None);\n",
    "ax1.set(ylabel=None);\n",
    "\n",
    "sm.qqplot(test_group, line='45', ax=ax2, c='#4C72B0');\n",
    "ax2.set_title('QQ-plot для тестовой группы', fontsize=14, y=1.05);\n",
    "ax2.set(xlabel=None);\n",
    "ax2.set(ylabel=None);\n",
    "\n",
    "plt.tight_layout()"
   ]
  },
  {
   "cell_type": "markdown",
   "metadata": {},
   "source": [
    "Обе группы распределены крайне ненормально, как мы видели выше => необходимо применять непараметрический критерий. Попробуем использовать бутстрап."
   ]
  },
  {
   "cell_type": "code",
   "execution_count": 100,
   "metadata": {},
   "outputs": [],
   "source": [
    "def get_bootstrap_mean(\n",
    "    data_column_1, # числовые значения первой выборки\n",
    "    data_column_2, # числовые значения второй выборки\n",
    "    boot_it = 1000, # количество бутстрэп-подвыборок\n",
    "    statistic = np.mean, # интересующая нас статистика\n",
    "    bootstrap_conf_level = 0.95 # уровень значимости\n",
    "):\n",
    "    boot_len = max([len(data_column_1), len(data_column_2)])\n",
    "    boot_data = []\n",
    "    for i in tqdm(range(boot_it)): # извлекаем подвыборки\n",
    "        samples_1 = data_column_1.sample(\n",
    "            boot_len, \n",
    "            replace = True # параметр возвращения\n",
    "        ).values\n",
    "        \n",
    "        samples_2 = data_column_2.sample(\n",
    "            boot_len, \n",
    "            replace = True\n",
    "        ).values\n",
    "        \n",
    "        boot_data.append(statistic(samples_1-samples_2)) # mean() - применяем статистику\n",
    "        \n",
    "    pd_boot_data = pd.DataFrame(boot_data)\n",
    "        \n",
    "    left_quant = (1 - bootstrap_conf_level)/2\n",
    "    right_quant = 1 - (1 - bootstrap_conf_level) / 2\n",
    "    ci = pd_boot_data.quantile([left_quant, right_quant])\n",
    "        \n",
    "    p_1 = norm.cdf(\n",
    "        x = 0, \n",
    "        loc = np.mean(boot_data), \n",
    "        scale = np.std(boot_data)\n",
    "    )\n",
    "    p_2 = norm.cdf(\n",
    "        x = 0, \n",
    "        loc = -np.mean(boot_data), \n",
    "        scale = np.std(boot_data)\n",
    "    )\n",
    "    p_value = min(p_1, p_2) * 2\n",
    "        \n",
    "    # Визуализация\n",
    "    plt.hist(pd_boot_data[0], bins = 50)\n",
    "    \n",
    "    plt.style.use('ggplot')\n",
    "    plt.vlines(ci,ymin=0,ymax=50,linestyle='--')\n",
    "    plt.xlabel('boot_data')\n",
    "    plt.ylabel('frequency')\n",
    "    plt.title(\"Histogram of boot_data\")\n",
    "    plt.show()\n",
    "       \n",
    "    return {\"boot_data\": boot_data, \n",
    "            \"ci\": ci, \n",
    "            \"p_value\": p_value}"
   ]
  },
  {
   "cell_type": "code",
   "execution_count": 101,
   "metadata": {},
   "outputs": [
    {
     "data": {
      "application/vnd.jupyter.widget-view+json": {
       "model_id": "4b65f76e6bda4c2bbf6b9f68b82e8211",
       "version_major": 2,
       "version_minor": 0
      },
      "text/plain": [
       "HBox(children=(FloatProgress(value=0.0, max=1000.0), HTML(value='')))"
      ]
     },
     "metadata": {},
     "output_type": "display_data"
    },
    {
     "name": "stdout",
     "output_type": "stream",
     "text": [
      "\n"
     ]
    },
    {
     "data": {
      "image/png": "[encoded data removed]",
      "text/plain": [
       "<Figure size 432x288 with 1 Axes>"
      ]
     },
     "metadata": {},
     "output_type": "display_data"
    },
    {
     "name": "stdout",
     "output_type": "stream",
     "text": [
      "0.954850205957061\n"
     ]
    }
   ],
   "source": [
    "bootstrap_mean = get_bootstrap_mean(control_group, test_group)\n",
    "print(bootstrap_mean['p_value'])"
   ]
  },
  {
   "cell_type": "code",
   "execution_count": 102,
   "metadata": {},
   "outputs": [
    {
     "data": {
      "text/plain": [
       "MannwhitneyuResult(statistic=934332123.0, pvalue=0.11766714600761834)"
      ]
     },
     "execution_count": 102,
     "metadata": {},
     "output_type": "execute_result"
    }
   ],
   "source": [
    "mannwhitneyu(control_group, test_group)"
   ]
  },
  {
   "cell_type": "markdown",
   "metadata": {},
   "source": [
    "---\n",
    "- <u>0 входит в доверительный интервал</u> => мы <u>не</u> имеем оснований отклонить нулевую гипотезу. \n",
    "\n",
    "- <u>p-value > 0.05</u> => разница между значениями разниц средних (групп A и B) НЕстатзначимая.\n",
    "То же самое подтверждает тест Манна-Уитни.\n",
    "\n",
    "<b>Вывод</b>: статзначимой разницы в распределениях параматетра `sum_gamerounds` между группами нет. Оснований отклонить $H_0$ о равенстве среднего числа сыгранных раундов у нас нет.\n",
    "\n",
    "Перейдём к показателям конверсии.\n",
    "\n",
    "---"
   ]
  },
  {
   "cell_type": "code",
   "execution_count": 103,
   "metadata": {},
   "outputs": [],
   "source": [
    "crosstab_1 = pd.crosstab(df['group'], df['retention_1'])\n",
    "crosstab_2 = pd.crosstab(df['group'], df['retention_7'])"
   ]
  },
  {
   "cell_type": "code",
   "execution_count": 104,
   "metadata": {},
   "outputs": [
    {
     "name": "stdout",
     "output_type": "stream",
     "text": [
      "retention_1  False  True \n",
      "group                    \n",
      "A            22769  19993\n",
      "B            23359  20073 \n",
      "\n",
      "\n",
      "retention_7  False  True \n",
      "group                    \n",
      "A            34277   8485\n",
      "B            35166   8266\n"
     ]
    }
   ],
   "source": [
    "print(crosstab_1, '\\n\\n')\n",
    "print(crosstab_2)"
   ]
  },
  {
   "cell_type": "code",
   "execution_count": 105,
   "metadata": {},
   "outputs": [
    {
     "data": {
      "image/png": "[encoded data removed]",
      "text/plain": [
       "<Figure size 864x288 with 2 Axes>"
      ]
     },
     "metadata": {},
     "output_type": "display_data"
    }
   ],
   "source": [
    "fig, (ax1, ax2) = plt.subplots(1, 2, figsize=(12,4))\n",
    "\n",
    "sns.countplot(x='retention_1', hue='group', data=df, ax=ax1)\n",
    "ax1.set_title('Retention 1-ого дня', fontsize=16, y=1.05)\n",
    "ax1.set(ylabel=None)\n",
    "ax1.set(xlabel=None)\n",
    "\n",
    "sns.countplot(x='retention_7', hue='group', data=df, ax=ax2)\n",
    "ax2.set_title('Retention 7-ого дня', fontsize=16, y=1.05)\n",
    "ax2.set(ylabel=None)\n",
    "ax2.set(xlabel=None)\n",
    "\n",
    "plt.tight_layout()"
   ]
  },
  {
   "cell_type": "markdown",
   "metadata": {},
   "source": [
    "Из сводной таблицы кажется, что показатель retention 1-ого дня и 7-ого дня значимо не изменился. Посмотрим на процентные соотношения."
   ]
  },
  {
   "cell_type": "code",
   "execution_count": 106,
   "metadata": {},
   "outputs": [],
   "source": [
    "retention1_rate_A = df.query('group == \"A\"').retention_1.sum() / len(df)\n",
    "retention1_rate_B = df.query('group == \"B\"').retention_1.sum() / len(df)\n",
    "\n",
    "retention7_rate_A = df.query('group == \"A\"').retention_7.sum() / len(df)\n",
    "retention7_rate_B = df.query('group == \"B\"').retention_7.sum() / len(df)"
   ]
  },
  {
   "cell_type": "code",
   "execution_count": 107,
   "metadata": {},
   "outputs": [
    {
     "name": "stdout",
     "output_type": "stream",
     "text": [
      "0.23195350024363645 0.23288163909320833\n",
      "0.09844072673271921 0.09589994663201615\n"
     ]
    }
   ],
   "source": [
    "print(retention1_rate_A, retention1_rate_B) # в группе B показатель выше на 0.001\n",
    "print(retention7_rate_A, retention7_rate_B) # в группе A показатель выше примерно на 0.003"
   ]
  },
  {
   "cell_type": "markdown",
   "metadata": {},
   "source": [
    "`retention_1` чуть увеличился, а `retention_7` немного снизился. Но случайны ли эти изменения?\n",
    "\n",
    "Обе переменные (group, retention) номинативные, поэтому можем применить критерий хи-квадрат, чтобы узнать, имеется ли взаимосвязь между группой и retention и насколько она значима.\n",
    "\n",
    "- $H_0$: взаимосвязи между переменными нет \n",
    "- $H_1$: взаимосвязь есть"
   ]
  },
  {
   "cell_type": "code",
   "execution_count": 108,
   "metadata": {},
   "outputs": [
    {
     "data": {
      "text/plain": [
       "(2.47671866669166, 0.11554308221600512)"
      ]
     },
     "execution_count": 108,
     "metadata": {},
     "output_type": "execute_result"
    }
   ],
   "source": [
    "# Retention 1-ого дня\n",
    "\n",
    "stat_1, p_1, dof_1, expected_1 = chi2_contingency(crosstab_1)\n",
    "stat_1, p_1"
   ]
  },
  {
   "cell_type": "code",
   "execution_count": 109,
   "metadata": {},
   "outputs": [
    {
     "name": "stdout",
     "output_type": "stream",
     "text": [
      "Не отклоняем H0\n"
     ]
    }
   ],
   "source": [
    "# Превышает ли полученное значение статистики значение 95-ого квантиля?\n",
    "\n",
    "prob = 0.95 \n",
    "critical = chi2.ppf(prob, dof_1)\n",
    "if abs(stat_1) >= critical:\n",
    "    print('Отклоняем H0')\n",
    "else:\n",
    "    print('Не отклоняем H0')"
   ]
  },
  {
   "cell_type": "code",
   "execution_count": 110,
   "metadata": {},
   "outputs": [
    {
     "name": "stdout",
     "output_type": "stream",
     "text": [
      "Не отклоняем H0\n"
     ]
    }
   ],
   "source": [
    "# Является ли полученное p-value меньше заданного уровня значимости?\n",
    "\n",
    "prob = 0.95\n",
    "alpha = 1.0 - prob\n",
    "if p_1 <= alpha:\n",
    "    print('Отклоняем H0')\n",
    "else:\n",
    "    print('Не отклоняем H0')"
   ]
  },
  {
   "cell_type": "markdown",
   "metadata": {},
   "source": [
    "Мы не можем отклонить $H_0$ об отсутствии взаимосвязи между `group` и `retention_1`. Удержание пользователей после обновления статзначимо не изменилось."
   ]
  },
  {
   "cell_type": "code",
   "execution_count": 111,
   "metadata": {},
   "outputs": [
    {
     "data": {
      "text/plain": [
       "(8.984877907964687, 0.0027222297777463066)"
      ]
     },
     "execution_count": 111,
     "metadata": {},
     "output_type": "execute_result"
    }
   ],
   "source": [
    "# Retention 7-ого дня\n",
    "\n",
    "stat_2, p_2, dof_2, expected_2 = chi2_contingency(crosstab_2)\n",
    "stat_2, p_2"
   ]
  },
  {
   "cell_type": "code",
   "execution_count": 112,
   "metadata": {},
   "outputs": [
    {
     "name": "stdout",
     "output_type": "stream",
     "text": [
      "Отклоняем H0\n"
     ]
    }
   ],
   "source": [
    "prob = 0.95 \n",
    "critical = chi2.ppf(prob, dof_2)\n",
    "if abs(stat_2) >= critical:\n",
    "    print('Отклоняем H0')\n",
    "else:\n",
    "    print('Не отклоняем H0')"
   ]
  },
  {
   "cell_type": "code",
   "execution_count": 113,
   "metadata": {},
   "outputs": [
    {
     "name": "stdout",
     "output_type": "stream",
     "text": [
      "Отклоняем H0\n"
     ]
    }
   ],
   "source": [
    "prob = 0.95\n",
    "alpha = 1.0 - prob\n",
    "if p_2 <= alpha:\n",
    "    print('Отклоняем H0')\n",
    "else:\n",
    "    print('Не отклоняем H0')"
   ]
  },
  {
   "cell_type": "markdown",
   "metadata": {},
   "source": [
    "Ситуация обратная - спад retention не случаен, и пользователи действительно стали реже (на 2.5%) приходить на 7-ой день после обновления. \n",
    "\n",
    "<b>Вывод</b>: мы <u>имеем основания</u> отклонить $H_0$ об отсутствии взаимосвязи между группой и retention 7-го дня.\n",
    "\n"
   ]
  },
  {
   "cell_type": "markdown",
   "metadata": {},
   "source": [
    "---\n",
    "<font size=\"3\"><b>Итог</b>: новое обновление не повлияло на среднее количество сыгранных раундов и retention 1-го дня, но вызвало спад retention 7-го. <u>Обновление нельзя выкатывать</u> - низкая вовлечённость пользователей ведёт к уменьшению количества игроков и, как итог, к меньшему заработку.\n",
    "\n",
    "<b>Возможная причина и решение</b>: обычно достижение каждого нового уровня заставляет игрока всё больше времени проводить в игре. Так как выход в открытый мир является одним из самых важных событий для любого игрока, его перенос на целых 10 уровней дальше снижает мотивацию - как итог, пользователь реже заходит в игру. \n",
    "\n",
    "Если есть проблема с быстрым достижением 30-го уровня, необходимо найти ту границу, которая будет устраивать и сообщество, и разработчиков. Возможно, в следующих экспериментах стоит определить границу на 3-4 уровня выше и, постепенно повышая, смотреть, какова будет реакция игроков. </font>\n",
    "\n",
    "---"
   ]
  }
 ],
 "metadata": {
  "kernelspec": {
   "display_name": "Python 3",
   "language": "python",
   "name": "python3"
  },
  "language_info": {
   "codemirror_mode": {
    "name": "ipython",
    "version": 3
   },
   "file_extension": ".py",
   "mimetype": "text/x-python",
   "name": "python",
   "nbconvert_exporter": "python",
   "pygments_lexer": "ipython3",
   "version": "3.7.3"
  }
 },
 "nbformat": 4,
 "nbformat_minor": 4
}
